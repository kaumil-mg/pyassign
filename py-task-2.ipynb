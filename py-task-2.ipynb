{
 "cells": [
  {
   "cell_type": "markdown",
   "id": "a67a2fab-b45f-44da-aa5b-bbfc226f9402",
   "metadata": {},
   "source": [
    "Q1. You are writing code for a company. The requirement of the company is that you create a python\n",
    "function that will check whether the password entered by the user is correct or not. The function should\n",
    "take the password as input and return the string “Valid Password” if the entered password follows the\n",
    "below-given password guidelines else it should return “Invalid Password”.\n",
    "\n",
    "Note: \n",
    "1. The Password should contain at least two uppercase letters and at least two lowercase letters.\n",
    "\n",
    "2. The Password should contain at least a number and three special characters.\n",
    "\n",
    "3. The length of the password should be 10 characters long."
   ]
  },
  {
   "cell_type": "code",
   "execution_count": 16,
   "id": "c66a177f-0f48-4776-bf83-79be61ac509a",
   "metadata": {},
   "outputs": [],
   "source": [
    "import re\n",
    "\n",
    "def check_password(password):\n",
    "    # Password should be exactly 10 characters long\n",
    "    if len(password) != 10:\n",
    "        return \"Invalid Password\"\n",
    "    \n",
    "    # Password should contain at least two uppercase letters and at least two lowercase letters\n",
    "    elif not re.search(r'[A-Z].*[A-Z]', password) or not re.search(r'[a-z].*[a-z]', password):\n",
    "        return \"Invalid Password\"\n",
    "    \n",
    "    # Password should contain at least a number and three special characters\n",
    "    elif not re.search(r'\\d', password) or not re.findall(r'[!@#$%^&*()+_\\-={}\\[\\]:;\\\"\\'<>,.?/\\\\]', password):\n",
    "        return \"Invalid Password\"\n",
    "    \n",
    "    # If all conditions are met, return \"Valid Password\"\n",
    "    else:\n",
    "        return \"Valid Password\"\n"
   ]
  },
  {
   "cell_type": "markdown",
   "id": "1a850bb8-5e53-49de-a2a3-01735ec3b170",
   "metadata": {},
   "source": [
    "Q2. Solve the below-given questions using at least one of the following:\n",
    "\n",
    "    1. Lambda function\n",
    "    2. Filter function\n",
    "    3. Map function\n",
    "    4. List Comprehension\n",
    "- Check if the string starts with a particular letter.\n",
    "- Check if the string is numeric.\n",
    "- Sort a list of tuples having fruit names and their quantity. [(\"mango\",99),(\"orange\",80), (\"grapes\", 1000)]\n",
    "- Find the squares of numbers from 1 to 10.\n",
    "- Find the cube root of numbers from 1 to 10.\n",
    "- Check if a given number is even.\n",
    "- Filter odd numbers from the given list.\n",
    "[1,2,3,4,5,6,7,8,9,10]\n",
    "- Sort a list of integers into positive and negative integers lists.\n",
    "[1,2,3,4,5,6,-1,-2,-3,-4,-5,0]"
   ]
  },
  {
   "cell_type": "code",
   "execution_count": null,
   "id": "c80fe8cb-28da-4492-b0db-7d2c7204867b",
   "metadata": {},
   "outputs": [],
   "source": [
    "# Check if the string starts with a particular letter:\n",
    "# Using lambda function:\n",
    "string = \"Hello World\"\n",
    "starts_with_h = lambda x: True if x.startswith('H') else False\n",
    "print(starts_with_h(string))\n",
    "\n",
    "# Check if the string is numeric:\n",
    "# Using list comprehension:\n",
    "string = \"1234\"\n",
    "is_numeric = all([True if x.isnumeric() else False for x in string.split()])\n",
    "print(is_numeric)\n",
    "\n",
    "# Sort a list of tuples having fruit names and their quantity:\n",
    "# Using lambda function\n",
    "fruits = [(\"mango\",99),(\"orange\",80), (\"grapes\", 1000)]\n",
    "sorted_fruits = sorted(fruits, key=lambda x: x[1])\n",
    "print(sorted_fruits)\n",
    "\n",
    "# Find the squares of numbers from 1 to 10:\n",
    "# Using lambda function and map function:\n",
    "numbers = range(1, 11)\n",
    "squares = list(map(lambda x: x**2, numbers))\n",
    "print(squares)\n",
    "\n",
    "# Find the cube root of numbers from 1 to 10:\n",
    "# Using lambda function and map function:\n",
    "import math\n",
    "numbers = range(1, 11)\n",
    "cube_roots = list(map(lambda x: math.pow(x, 1/3), numbers))\n",
    "print(cube_roots)\n",
    "\n",
    "# Check if a given number is even:\n",
    "# Using list comprehension:\n",
    "number = 4\n",
    "is_even = all([True if x%2==0 else False for x in [number]])\n",
    "print(is_even)\n",
    "\n",
    "# Filter odd numbers from the given list [1,2,3,4,5,6,7,8,9,10]:\n",
    "# Using filter function:\n",
    "numbers = [1,2,3,4,5,6,7,8,9,10]\n",
    "odd_numbers = list(filter(lambda x: x%2!=0, numbers))\n",
    "print(odd_numbers)\n"
   ]
  }
 ],
 "metadata": {
  "kernelspec": {
   "display_name": "Python 3 (ipykernel)",
   "language": "python",
   "name": "python3"
  },
  "language_info": {
   "codemirror_mode": {
    "name": "ipython",
    "version": 3
   },
   "file_extension": ".py",
   "mimetype": "text/x-python",
   "name": "python",
   "nbconvert_exporter": "python",
   "pygments_lexer": "ipython3",
   "version": "3.10.8"
  }
 },
 "nbformat": 4,
 "nbformat_minor": 5
}

{
 "cells": [
  {
   "cell_type": "markdown",
   "id": "2f6d0ee7-f981-4148-b915-d7f2b438393d",
   "metadata": {},
   "source": [
    "Q1. Explain why we have to use the Exception class while creating a Custom Exception.\n",
    "Note: Here Exception class refers to the base class for all the exceptions."
   ]
  },
  {
   "cell_type": "markdown",
   "id": "a6e9a10c-34da-4ff7-8670-3085a1f4dbe1",
   "metadata": {},
   "source": [
    "When creating a custom exception in Python, it is recommended to derive the custom exception class from the base Exception class or one of its subclasses. This is because the Exception class provides a consistent interface for handling exceptions in Python, and it is designed to be extended for custom use cases.\n",
    "\n",
    "The Exception class provides a set of methods and attributes that are used to handle exceptions in Python. For example, the str method is used to convert the exception object to a string representation, which can be used in error messages or logging. Similarly, the args attribute is used to store any arguments passed to the exception constructor, which can be used to provide additional information about the error."
   ]
  },
  {
   "cell_type": "markdown",
   "id": "8bcca82a-7174-4276-8b49-c28157439be6",
   "metadata": {},
   "source": [
    "Q2. Write a python program to print Python Exception Hierarchy."
   ]
  },
  {
   "cell_type": "code",
   "execution_count": 1,
   "id": "4dc2b936-7250-4eb6-b1c0-e6527b17450f",
   "metadata": {},
   "outputs": [
    {
     "name": "stdout",
     "output_type": "stream",
     "text": [
      "ArithmeticError\n",
      "AssertionError\n",
      "AttributeError\n",
      "BaseException\n",
      "BlockingIOError\n",
      "BrokenPipeError\n",
      "BufferError\n",
      "BytesWarning\n",
      "ChildProcessError\n",
      "ConnectionAbortedError\n",
      "ConnectionError\n",
      "ConnectionRefusedError\n",
      "ConnectionResetError\n",
      "DeprecationWarning\n",
      "EOFError\n",
      "EncodingWarning\n",
      "EnvironmentError\n",
      "Exception\n",
      "FileExistsError\n",
      "FileNotFoundError\n",
      "FloatingPointError\n",
      "FutureWarning\n",
      "GeneratorExit\n",
      "IOError\n",
      "ImportError\n",
      "ImportWarning\n",
      "IndentationError\n",
      "IndexError\n",
      "InterruptedError\n",
      "IsADirectoryError\n",
      "KeyError\n",
      "KeyboardInterrupt\n",
      "LookupError\n",
      "MemoryError\n",
      "ModuleNotFoundError\n",
      "NameError\n",
      "NotADirectoryError\n",
      "NotImplementedError\n",
      "OSError\n",
      "OverflowError\n",
      "PendingDeprecationWarning\n",
      "PermissionError\n",
      "ProcessLookupError\n",
      "RecursionError\n",
      "ReferenceError\n",
      "ResourceWarning\n",
      "RuntimeError\n",
      "RuntimeWarning\n",
      "StopAsyncIteration\n",
      "StopIteration\n",
      "SyntaxError\n",
      "SyntaxWarning\n",
      "SystemError\n",
      "SystemExit\n",
      "TabError\n",
      "TimeoutError\n",
      "TypeError\n",
      "UnboundLocalError\n",
      "UnicodeDecodeError\n",
      "UnicodeEncodeError\n",
      "UnicodeError\n",
      "UnicodeTranslateError\n",
      "UnicodeWarning\n",
      "UserWarning\n",
      "ValueError\n",
      "Warning\n",
      "ZeroDivisionError\n"
     ]
    }
   ],
   "source": [
    "# print Python Exception Hierarchy\n",
    "def print_exception_hierarchy():\n",
    "    \"\"\"\n",
    "    A function to print the Python Exception Hierarchy.\n",
    "    \"\"\"\n",
    "    hierarchy = []\n",
    "    for exc in dir(__builtins__):\n",
    "        if isinstance(getattr(__builtins__, exc), type) and issubclass(getattr(__builtins__, exc), BaseException):\n",
    "            hierarchy.append(exc)\n",
    "    hierarchy.sort()\n",
    "    print(\"\\n\".join(hierarchy))\n",
    "    \n",
    "# calling the function to print the Python Exception Hierarchy\n",
    "print_exception_hierarchy()\n"
   ]
  },
  {
   "cell_type": "markdown",
   "id": "5ad414b6-15b2-43f2-bc4c-0de06487b646",
   "metadata": {},
   "source": [
    "Q3. What errors are defined in the ArithmeticError class? Explain any two with an example."
   ]
  },
  {
   "cell_type": "markdown",
   "id": "367146ed-576f-4f07-9fde-4a28b33a63e6",
   "metadata": {},
   "source": [
    "The ArithmeticError is the base class for exceptions that occur during arithmetic operations, such as division by zero, overflow, or underflow. The ArithmeticError class has several subclasses that represent specific types of arithmetic errors. Here are two examples:\n",
    "\n",
    "1. ZeroDivisionError: This exception is raised when attempting to divide a number by zero."
   ]
  },
  {
   "cell_type": "code",
   "execution_count": 2,
   "id": "0e1da43a-8708-43a8-b6fe-c8cca49b03f2",
   "metadata": {},
   "outputs": [
    {
     "name": "stdout",
     "output_type": "stream",
     "text": [
      "Error:  division by zero\n"
     ]
    }
   ],
   "source": [
    "a = 10\n",
    "b = 0\n",
    "try:\n",
    "    c = a/b\n",
    "except ZeroDivisionError as e:\n",
    "    print(\"Error: \", e)\n"
   ]
  },
  {
   "cell_type": "markdown",
   "id": "f8bdb8ea-6d57-47be-99b9-7887d3efb6ae",
   "metadata": {},
   "source": [
    "2. OverflowError: This exception is raised when the result of an arithmetic operation is too large to be represented as a finite value in Python."
   ]
  },
  {
   "cell_type": "code",
   "execution_count": 5,
   "id": "7a15a1b0-d1fc-4cf2-ae13-a78b8adbc64f",
   "metadata": {},
   "outputs": [],
   "source": [
    "a = 99999999999999999999999999999999999999999999999999999\n",
    "try:\n",
    "    b = a*a\n",
    "except OverflowError as e:\n",
    "    print(\"Error: \", e)\n"
   ]
  },
  {
   "cell_type": "markdown",
   "id": "36910e27-d548-4a83-ab24-790cb7dce87c",
   "metadata": {},
   "source": [
    "Q4. Why LookupError class is used? Explain with an example KeyError and IndexError."
   ]
  },
  {
   "cell_type": "markdown",
   "id": "8805eef0-b14b-4b56-a52a-3a760877817d",
   "metadata": {},
   "source": [
    "The LookupError is the base class for exceptions that occur when a key or index is not found in a mapping or sequence. The LookupError class has two commonly used subclasses: KeyError and IndexError."
   ]
  },
  {
   "cell_type": "code",
   "execution_count": 6,
   "id": "4357036a-30e1-49b7-8e4e-4db82c9acb18",
   "metadata": {},
   "outputs": [
    {
     "name": "stdout",
     "output_type": "stream",
     "text": [
      "KeyError: 'grape'\n"
     ]
    }
   ],
   "source": [
    "\"\"\"KeyError is raised when a key is not found in a dictionary or any other mapping object. For example:\"\"\"\n",
    "\n",
    "my_dict = {\"apple\": 1, \"banana\": 2, \"orange\": 3}\n",
    "\n",
    "try:\n",
    "    value = my_dict[\"grape\"]\n",
    "except KeyError as e:\n",
    "    print(f\"KeyError: {e}\")\n"
   ]
  },
  {
   "cell_type": "code",
   "execution_count": 7,
   "id": "85b6fa2e-d5c4-4835-9cd9-1fa856bbadaa",
   "metadata": {},
   "outputs": [
    {
     "name": "stdout",
     "output_type": "stream",
     "text": [
      "IndexError: list index out of range\n"
     ]
    }
   ],
   "source": [
    "\"\"\"IndexError is raised when an index is not found in a sequence such as a list or tuple. For example:\"\"\"\n",
    "\n",
    "my_list = [1, 2, 3]\n",
    "\n",
    "try:\n",
    "    value = my_list[3]\n",
    "except IndexError as e:\n",
    "    print(f\"IndexError: {e}\")\n"
   ]
  },
  {
   "cell_type": "markdown",
   "id": "5453ad86-8656-4f97-9f00-4fd54b418d02",
   "metadata": {},
   "source": [
    "Q5. Explain ImportError. What is ModuleNotFoundError?"
   ]
  },
  {
   "cell_type": "markdown",
   "id": "26fd3abb-b3dd-47f6-9c97-013d63e60b49",
   "metadata": {},
   "source": [
    "ImportError is an exception that is raised when an imported module, package, or object is not found or cannot be loaded for any reason. It is a common exception that can occur in Python when importing modules."
   ]
  },
  {
   "cell_type": "code",
   "execution_count": 8,
   "id": "2b5ee9f6-dcca-49c4-b46b-19723fd247e0",
   "metadata": {},
   "outputs": [
    {
     "name": "stdout",
     "output_type": "stream",
     "text": [
      "ImportError: No module named 'non_existing_module'\n"
     ]
    }
   ],
   "source": [
    "try:\n",
    "    import non_existing_module\n",
    "except ImportError as e:\n",
    "    print(f\"ImportError: {e}\")\n"
   ]
  },
  {
   "cell_type": "markdown",
   "id": "759a31d9-e898-491b-8241-79311fc6a126",
   "metadata": {},
   "source": [
    "ModuleNotFoundError is a subclass of ImportError that was introduced in Python 3.6. It is raised when a module is not found during the import process. It is a more specific and informative error message than ImportError.\n",
    "\n"
   ]
  },
  {
   "cell_type": "code",
   "execution_count": 9,
   "id": "ad13e885-66c9-4062-ae0a-bc388249d3fc",
   "metadata": {},
   "outputs": [
    {
     "name": "stdout",
     "output_type": "stream",
     "text": [
      "ModuleNotFoundError: No module named 'non_existing_module'\n"
     ]
    }
   ],
   "source": [
    "try:\n",
    "    import non_existing_module\n",
    "except ModuleNotFoundError as e:\n",
    "    print(f\"ModuleNotFoundError: {e}\")\n"
   ]
  },
  {
   "cell_type": "markdown",
   "id": "a3342c50-26e1-4ed6-899c-636da3ae90ba",
   "metadata": {},
   "source": [
    "Q6. List down some best practices for exception handling in python."
   ]
  },
  {
   "cell_type": "markdown",
   "id": "d6317f0e-f237-4eed-baf8-d60b97dde59f",
   "metadata": {},
   "source": [
    "Here are some best practices for exception handling in Python:\n",
    "\n",
    "-> Use a specific exception type: Use a specific exception type rather than using a generic Exception class. This helps to identify the specific problem and provides a more informative error message.\n",
    "\n",
    "-> Use try-except blocks: Use try and except blocks to handle exceptions. The code that is likely to cause an exception should be placed in the try block, while the code that handles the exception should be placed in the except block.\n",
    "\n",
    "-> Handle exceptions explicitly: Handle exceptions explicitly, and do not ignore them. Ignoring exceptions can lead to silent errors and make it difficult to identify the root cause of the problem.\n",
    "\n",
    "-> Provide informative error messages: Provide informative error messages that explain what went wrong and suggest solutions to the problem. This helps users understand the problem and take appropriate action.\n",
    "\n",
    "-> Don't catch all exceptions: Avoid catching all exceptions using a broad try block. This can hide bugs and make it difficult to identify the cause of the problem.\n",
    "\n",
    "-> Don't swallow exceptions: Avoid swallowing exceptions by catching an exception and not doing anything with it. This can make it difficult to identify the cause of the problem and lead to unexpected behavior.\n",
    "\n",
    "Use finally block: Use a finally block to clean up resources, such as closing files or database connections. This block is executed regardless of whether an exception is raised or not.\n",
    "\n",
    "Don't raise exceptions unnecessarily: Avoid raising exceptions unnecessarily. Only raise an exception when the code cannot recover from the problem.\n",
    "\n",
    "Keep the traceback: Keep the traceback information when logging or displaying error messages. This information helps to identify the root cause of the problem and fix it.\n",
    "\n",
    "Use context managers: Use context managers to handle resources that need to be cleaned up, such as files or database connections. Context managers ensure that resources are properly cleaned up, even if an exception is raised."
   ]
  },
  {
   "cell_type": "code",
   "execution_count": null,
   "id": "8d8607e2-7936-48ca-b6f1-4071ddd30149",
   "metadata": {},
   "outputs": [],
   "source": []
  }
 ],
 "metadata": {
  "kernelspec": {
   "display_name": "Python 3 (ipykernel)",
   "language": "python",
   "name": "python3"
  },
  "language_info": {
   "codemirror_mode": {
    "name": "ipython",
    "version": 3
   },
   "file_extension": ".py",
   "mimetype": "text/x-python",
   "name": "python",
   "nbconvert_exporter": "python",
   "pygments_lexer": "ipython3",
   "version": "3.10.8"
  }
 },
 "nbformat": 4,
 "nbformat_minor": 5
}

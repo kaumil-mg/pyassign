{
 "cells": [
  {
   "cell_type": "markdown",
   "id": "eb113e94-e1be-462d-bb9f-0c3761a01a23",
   "metadata": {},
   "source": [
    "Q1. What is Abstraction in OOps? Explain with an example."
   ]
  },
  {
   "cell_type": "markdown",
   "id": "3599fd76-7199-4d50-a188-ceb88f2d79ca",
   "metadata": {},
   "source": [
    "Abstraction in OOPs refers to the process of hiding the implementation details of an object from its external users and only showing the essential features or functionality that are relevant to the user. It allows us to focus on what an object does, rather than how it does it.\n",
    "\n",
    "For example, consider a car. As a driver, we only need to know how to operate the pedals, steering wheel, and gear shift to drive the car. We do not need to know how the engine, transmission, and other complex systems work under the hood. This is an example of abstraction, where the car's internal implementation is hidden, and only its essential functionality is exposed to the user."
   ]
  },
  {
   "cell_type": "code",
   "execution_count": 1,
   "id": "5c4208da-2d5c-446e-ac52-c6060e7235e0",
   "metadata": {},
   "outputs": [
    {
     "name": "stdout",
     "output_type": "stream",
     "text": [
      "Dog moves by running and walking.\n",
      "Snake moves by crawling.\n"
     ]
    }
   ],
   "source": [
    "from abc import ABC, abstractmethod\n",
    "\n",
    "class Animal(ABC):\n",
    "    @abstractmethod\n",
    "    def move(self):\n",
    "        pass\n",
    "\n",
    "class Dog(Animal):\n",
    "    def move(self):\n",
    "        print(\"Dog moves by running and walking.\")\n",
    "\n",
    "class Snake(Animal):\n",
    "    def move(self):\n",
    "        print(\"Snake moves by crawling.\")\n",
    "\n",
    "# Creating objects of Dog and Snake\n",
    "dog = Dog()\n",
    "snake = Snake()\n",
    "\n",
    "# Calling move() method of Dog and Snake\n",
    "dog.move()\n",
    "snake.move()\n"
   ]
  },
  {
   "cell_type": "markdown",
   "id": "f645c3f3-be13-4418-8699-cfcfc3cb7e2d",
   "metadata": {},
   "source": [
    "Q2. Differentiate between Abstraction and Encapsulation. Explain with an example."
   ]
  },
  {
   "cell_type": "markdown",
   "id": "771c0057-6085-4419-bea5-2fd001462388",
   "metadata": {},
   "source": [
    "Abstraction is the process of hiding the complexity of a system and showing only the essential features to the user. It provides a simplified and generalized view of a system to the user, which is easy to understand and use. Abstraction is achieved in OOP by creating abstract classes and interfaces, which define a set of methods and properties that a class must implement. The abstract classes and interfaces can then be used to create objects that can be used by the user."
   ]
  },
  {
   "cell_type": "code",
   "execution_count": 2,
   "id": "6de9344c-7105-433d-b1e8-77e7c3b32354",
   "metadata": {},
   "outputs": [
    {
     "name": "stdout",
     "output_type": "stream",
     "text": [
      "Meow\n",
      "Bark\n"
     ]
    }
   ],
   "source": [
    "# Abstraction Example\n",
    "\n",
    "from abc import ABC, abstractmethod\n",
    "\n",
    "class Animal(ABC):\n",
    "    @abstractmethod\n",
    "    def make_sound(self):\n",
    "        pass\n",
    "\n",
    "class Cat(Animal):\n",
    "    def make_sound(self):\n",
    "        print(\"Meow\")\n",
    "\n",
    "class Dog(Animal):\n",
    "    def make_sound(self):\n",
    "        print(\"Bark\")\n",
    "\n",
    "animals = [Cat(), Dog()]\n",
    "\n",
    "for animal in animals:\n",
    "    animal.make_sound()\n",
    "\n"
   ]
  },
  {
   "cell_type": "markdown",
   "id": "ccc046e0-8424-4025-b797-47017ccc60ce",
   "metadata": {},
   "source": [
    "Encapsulation is the process of hiding the internal details of a class and providing a public interface for accessing and modifying the class. Encapsulation helps in creating more secure and maintainable code, as it prevents direct access to the internal data of a class. Encapsulation is achieved in OOP by defining private properties and methods in a class, which can only be accessed by the class itself."
   ]
  },
  {
   "cell_type": "code",
   "execution_count": 4,
   "id": "6e29cb99-57aa-4cee-b1c7-47db4e2fff3f",
   "metadata": {},
   "outputs": [
    {
     "name": "stdout",
     "output_type": "stream",
     "text": [
      "5000\n",
      "7000\n",
      "4000\n",
      "Insufficient balance\n"
     ]
    }
   ],
   "source": [
    "# Encapsulation Example\n",
    "\n",
    "class BankAccount:\n",
    "    def __init__(self, account_number, balance):\n",
    "        self.__account_number = account_number\n",
    "        self.__balance = balance\n",
    "    \n",
    "    def get_balance(self):\n",
    "        return self.__balance\n",
    "    \n",
    "    def deposit(self, amount):\n",
    "        self.__balance += amount\n",
    "    \n",
    "    def withdraw(self, amount):\n",
    "        if self.__balance >= amount:\n",
    "            self.__balance -= amount\n",
    "        else:\n",
    "            print(\"Insufficient balance\")\n",
    "\n",
    "account = BankAccount(\"123456\", 5000)\n",
    "\n",
    "print(account.get_balance())\n",
    "\n",
    "account.deposit(2000)\n",
    "\n",
    "print(account.get_balance())\n",
    "\n",
    "account.withdraw(3000)\n",
    "\n",
    "print(account.get_balance())\n",
    "\n",
    "account.withdraw(5000)\n",
    "\n"
   ]
  },
  {
   "cell_type": "markdown",
   "id": "ea9564a9-1323-444a-b320-983fead4f6ca",
   "metadata": {},
   "source": [
    "Q3. What is abc module in python? Why is it used?"
   ]
  },
  {
   "cell_type": "markdown",
   "id": "e39c4b04-addf-4601-9916-f6baede93c34",
   "metadata": {},
   "source": [
    "The abc module in Python stands for Abstract Base Classes. It provides a way to define abstract base classes that can be inherited by other classes to enforce implementation of certain methods or properties in the child class.\n",
    "\n",
    "In other words, an abstract base class is a class that cannot be instantiated and serves as a blueprint for other classes to inherit from. It can define some abstract methods or properties that must be implemented by the child classes."
   ]
  },
  {
   "cell_type": "markdown",
   "id": "86ec0558-b7ac-4ee5-8acc-9260f853814e",
   "metadata": {},
   "source": [
    "Q4. How can we achieve data abstraction?\n",
    "\n",
    "We can achieve data abstraction in Python by defining abstract classes and abstract methods.\n",
    "\n",
    "Abstract classes are classes that cannot be instantiated and contain one or more abstract methods. Abstract methods are methods that have a declaration but no implementation."
   ]
  },
  {
   "cell_type": "code",
   "execution_count": null,
   "id": "3bcc54b4-37b3-4e9e-b4db-7f9260a44f08",
   "metadata": {},
   "outputs": [],
   "source": [
    "Q5. Can we create an instance of an abstract class? Explain your answer."
   ]
  }
 ],
 "metadata": {
  "kernelspec": {
   "display_name": "Python 3 (ipykernel)",
   "language": "python",
   "name": "python3"
  },
  "language_info": {
   "codemirror_mode": {
    "name": "ipython",
    "version": 3
   },
   "file_extension": ".py",
   "mimetype": "text/x-python",
   "name": "python",
   "nbconvert_exporter": "python",
   "pygments_lexer": "ipython3",
   "version": "3.10.8"
  }
 },
 "nbformat": 4,
 "nbformat_minor": 5
}

{
 "cells": [
  {
   "cell_type": "markdown",
   "id": "8771d1db-2829-4e11-b0c5-5c6a0a88ce9c",
   "metadata": {},
   "source": [
    "# 12th feb"
   ]
  },
  {
   "cell_type": "markdown",
   "id": "b9951ea7-e8d7-4af7-8701-5948564b6805",
   "metadata": {},
   "source": [
    "Q1. What is an Exception in python? Write the difference between Exceptions and syntax errors\n",
    "\n",
    "Q2. what happen when an exception is not handeled? explain with example\n",
    "\n",
    "Q3. Which python statement is used to catch and handle exception? explain with example\n",
    "\n",
    "Q4. Explain with an example \n",
    "    Try and else\n",
    "    finally\n",
    "    raise\n",
    "    \n",
    "Q5. What is custome exception in python? why do we need it? explain with example\n",
    "\n",
    "Q6. Create custom exception class. Use class to handle an exception"
   ]
  },
  {
   "cell_type": "markdown",
   "id": "b80c18a3-de2a-4f9f-8b63-ecbdacbdb591",
   "metadata": {},
   "source": [
    "# Q1. What is an Exception in python? Write the difference between Exceptions and syntax errors\n",
    "\n",
    "In Python, an Exception is an event that occurs during program execution, which disrupts the normal flow of the program. When an Exception is encountered, the program execution is terminated abruptly, and an error message is displayed on the console, indicating the type of Exception that occurred, and the line number in the code where it occurred. Exceptions can be caused by various factors such as input data errors, programming errors, insufficient memory, and so on.\n",
    "\n",
    "The main difference between Exceptions and syntax errors is that syntax errors occur when the code violates the syntax rules of the programming language, while Exceptions occur when the code runs into problems during execution, regardless of whether the code syntax is correct or not. Syntax errors are detected by the interpreter when the code is compiled, while Exceptions are detected at runtime when the program is executed. Syntax errors are often caused by mistakes such as misspelled keywords, incorrect use of punctuation, or incorrect indentation, while Exceptions are caused by problems such as division by zero, undefined variables, or invalid inputs. While syntax errors prevent the code from running, Exceptions occur during the code's execution and can be caught and handled using try-except blocks, allowing the program to continue running despite the Exception."
   ]
  },
  {
   "cell_type": "markdown",
   "id": "fe32b2d6-8de1-4e0b-8fb3-ed933f32ac42",
   "metadata": {},
   "source": [
    "# Q2. what happen when an exception is not handeled? explain with example\n",
    "\n",
    "When an exception is not handled, the program execution will be terminated and the error message will be displayed on the console. This means that any code that comes after the exception will not be execute"
   ]
  },
  {
   "cell_type": "code",
   "execution_count": 1,
   "id": "83007186-e75d-42dc-9875-c542b84ffd5f",
   "metadata": {},
   "outputs": [
    {
     "ename": "ZeroDivisionError",
     "evalue": "division by zero",
     "output_type": "error",
     "traceback": [
      "\u001b[0;31m---------------------------------------------------------------------------\u001b[0m",
      "\u001b[0;31mZeroDivisionError\u001b[0m                         Traceback (most recent call last)",
      "Cell \u001b[0;32mIn[1], line 4\u001b[0m\n\u001b[1;32m      1\u001b[0m num1 \u001b[38;5;241m=\u001b[39m \u001b[38;5;241m10\u001b[39m\n\u001b[1;32m      2\u001b[0m num2 \u001b[38;5;241m=\u001b[39m \u001b[38;5;241m0\u001b[39m\n\u001b[0;32m----> 4\u001b[0m result \u001b[38;5;241m=\u001b[39m \u001b[43mnum1\u001b[49m\u001b[43m \u001b[49m\u001b[38;5;241;43m/\u001b[39;49m\u001b[43m \u001b[49m\u001b[43mnum2\u001b[49m\n\u001b[1;32m      6\u001b[0m \u001b[38;5;28mprint\u001b[39m(\u001b[38;5;124m\"\u001b[39m\u001b[38;5;124mThe result is:\u001b[39m\u001b[38;5;124m\"\u001b[39m, result)\n\u001b[1;32m      9\u001b[0m \u001b[38;5;124;03m\"\"\"In this example, we are trying to divide the number 10 by 0, which will raise a ZeroDivisionError. Since we are not handling this exception, the program will terminate and the following error message will be displayed:\"\"\"\u001b[39;00m\n",
      "\u001b[0;31mZeroDivisionError\u001b[0m: division by zero"
     ]
    }
   ],
   "source": [
    "num1 = 10\n",
    "num2 = 0\n",
    "\n",
    "result = num1 / num2\n",
    "\n",
    "print(\"The result is:\", result)\n",
    "\n",
    "\n",
    "\"\"\"In this example, we are trying to divide the number 10 by 0, which will raise a ZeroDivisionError. \n",
    "Since we are not handling this exception, the program will terminate and the following error message will be displayed:\"\"\""
   ]
  },
  {
   "cell_type": "markdown",
   "id": "4a61af6f-e251-4a76-8c67-1ad6aa42cb65",
   "metadata": {},
   "source": [
    "# Q3. Which python statement is used to catch and handle exception? explain with example\n",
    "\n",
    "The 'try' statement is used to catch and handle exceptions in Python.\n",
    "\n",
    "In this example, the try block contains some code that might raise an exception. The except block(s) immediately following the try block are used to catch specific types of exceptions that may be raised by the code in the try block. If an exception is raised, the appropriate except block is executed. If no exception is raised, the except block(s) are skipped."
   ]
  },
  {
   "cell_type": "code",
   "execution_count": 4,
   "id": "99c9921c-b865-4a80-80ef-f08ca92fd4ce",
   "metadata": {},
   "outputs": [
    {
     "name": "stdin",
     "output_type": "stream",
     "text": [
      "Enter a number:  kj\n"
     ]
    },
    {
     "name": "stdout",
     "output_type": "stream",
     "text": [
      "Please enter a valid number!\n"
     ]
    }
   ],
   "source": [
    "try:\n",
    "    # Some code that might raise an exception\n",
    "    num = int(input(\"Enter a number: \"))\n",
    "    print(\"10 divided by your number is\", 10/num)\n",
    "except ZeroDivisionError:\n",
    "    print(\"You cannot divide by zero!\")\n",
    "except ValueError:\n",
    "    print(\"Please enter a valid number!\")\n",
    "except:\n",
    "    print(\"An error occurred!\")\n"
   ]
  },
  {
   "cell_type": "markdown",
   "id": "5cc23c75-48ec-43fd-b0ca-03f928cfd2ed",
   "metadata": {},
   "source": [
    "# Q4. Explain with an example \n",
    "    \n",
    "    Try and else\n",
    "    \n",
    "    finally\n",
    "    \n",
    "    raise"
   ]
  },
  {
   "cell_type": "code",
   "execution_count": 1,
   "id": "df425a07-4390-4474-803f-e4db7a3f0f08",
   "metadata": {},
   "outputs": [
    {
     "name": "stdin",
     "output_type": "stream",
     "text": [
      "Enter a number:  50\n",
      "Enter another number:  62\n"
     ]
    },
    {
     "name": "stdout",
     "output_type": "stream",
     "text": [
      "The result of dividing the two numbers is: 0.8064516129032258\n",
      "No exception occurred.\n",
      "This block is always executed, whether an exception occurred or not.\n"
     ]
    }
   ],
   "source": [
    "try:\n",
    "    num1 = int(input(\"Enter a number: \"))\n",
    "    num2 = int(input(\"Enter another number: \"))\n",
    "    result = num1 / num2\n",
    "    print(\"The result of dividing the two numbers is:\", result)\n",
    "except ValueError:\n",
    "    print(\"Invalid input. Please enter a number.\")\n",
    "except ZeroDivisionError:\n",
    "    print(\"Cannot divide by zero.\")\n",
    "else:\n",
    "    print(\"No exception occurred.\")\n",
    "finally:\n",
    "    print(\"This block is always executed, whether an exception occurred or not.\")\n"
   ]
  },
  {
   "cell_type": "markdown",
   "id": "a5551479-f511-44e1-a9ba-1dbe75dd9816",
   "metadata": {},
   "source": [
    "In this example, the try block contains the code that may cause an error. The except block is used to handle the exception and display an appropriate message to the user. In this case, there are two possible exceptions that could be raised: a ValueError if the user inputs a non-numeric value, and a ZeroDivisionError if the user tries to divide by zero.\n",
    "\n",
    "The else block is optional and executes if no exception occurs in the try block. In this example, it prints a message indicating that no exception occurred.\n",
    "\n",
    "The finally block is also optional and is always executed, whether an exception occurred or not. In this example, it prints a message indicating that the block is being executed.\n",
    "\n",
    "raise is a keyword in Python that allows you to raise an exception. Here is an example:"
   ]
  },
  {
   "cell_type": "code",
   "execution_count": 3,
   "id": "183b4f3f-089c-40ff-abff-a860861af7e4",
   "metadata": {},
   "outputs": [
    {
     "name": "stdin",
     "output_type": "stream",
     "text": [
      "Enter your age:  20\n"
     ]
    }
   ],
   "source": [
    "try:\n",
    "    age = int(input(\"Enter your age: \"))\n",
    "    if age < 0:\n",
    "        raise ValueError(\"Age cannot be negative.\")\n",
    "except ValueError as e:\n",
    "    print(e)\n"
   ]
  },
  {
   "cell_type": "markdown",
   "id": "00a76ccc-3e08-4bee-9b96-be45ffe3559f",
   "metadata": {},
   "source": [
    "# Q5. What is custome exception in python? why do we need it? explain with example\n",
    "\n",
    "Custom exceptions in Python are user-defined exceptions that are created to handle specific errors in a program. These exceptions are defined by the programmer to provide a more meaningful and descriptive message to the user when an error occurs.\n",
    "\n",
    "Custom exceptions are useful in situations where the built-in exceptions provided by Python are not specific enough to handle the errors in your program. They allow you to create exceptions that are tailored to the needs of your program, making it easier to debug and understand the source of the error."
   ]
  },
  {
   "cell_type": "code",
   "execution_count": 5,
   "id": "d7dc5ad2-6f0d-46d4-ac56-d6a0e5b01ed2",
   "metadata": {},
   "outputs": [
    {
     "name": "stdout",
     "output_type": "stream",
     "text": [
      "Cannot find square root of a negative number\n"
     ]
    }
   ],
   "source": [
    "class NegativeNumberError(Exception):\n",
    "    \"\"\"Exception raised when a negative number is entered\"\"\"\n",
    "    pass\n",
    "\n",
    "def square_root(num):\n",
    "    if num < 0:\n",
    "        raise NegativeNumberError(\"Cannot find square root of a negative number\")\n",
    "    else:\n",
    "        return num**0.5\n",
    "\n",
    "try:\n",
    "    result = square_root(-4)\n",
    "    print(result)\n",
    "except NegativeNumberError as e:\n",
    "    print(e)\n"
   ]
  },
  {
   "cell_type": "code",
   "execution_count": 6,
   "id": "96329e46-4eae-410b-85e9-b44061be3033",
   "metadata": {},
   "outputs": [],
   "source": [
    "# Q6. Create custom exception class. Use class to handle an exception\n",
    "\n"
   ]
  },
  {
   "cell_type": "code",
   "execution_count": null,
   "id": "60c18eea-2d57-48c1-bc65-c67e0295e267",
   "metadata": {},
   "outputs": [],
   "source": []
  }
 ],
 "metadata": {
  "kernelspec": {
   "display_name": "Python 3 (ipykernel)",
   "language": "python",
   "name": "python3"
  },
  "language_info": {
   "codemirror_mode": {
    "name": "ipython",
    "version": 3
   },
   "file_extension": ".py",
   "mimetype": "text/x-python",
   "name": "python",
   "nbconvert_exporter": "python",
   "pygments_lexer": "ipython3",
   "version": "3.10.8"
  }
 },
 "nbformat": 4,
 "nbformat_minor": 5
}

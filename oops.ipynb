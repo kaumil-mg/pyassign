{
 "cells": [
  {
   "cell_type": "markdown",
   "id": "a9a71fb1-5b9d-41b4-a301-aef617a88418",
   "metadata": {},
   "source": [
    "# Q1. Explain Class and Object with respect to Object-Oriented Programming. Give a suitable example.\n",
    "\n",
    "In object-oriented programming, a class is a blueprint for creating objects. It defines the properties and behaviors of an object. An object is an instance of a class that encapsulates data and methods to manipulate that data.\n",
    "\n",
    "For example, consider the class \"Car\". The car has certain attributes like make, model, year, color, and behavior like start, stop, accelerate, brake. These attributes and behaviors can be defined in a class. When a new car is created, it becomes an object of the class \"Car\" and can have its own specific values for attributes."
   ]
  },
  {
   "cell_type": "code",
   "execution_count": 2,
   "id": "f7fb9733-63fa-4ff7-a5c0-10937fb578bf",
   "metadata": {},
   "outputs": [
    {
     "name": "stdout",
     "output_type": "stream",
     "text": [
      "Starting the car\n",
      "Accelerating, speed is now 10\n",
      "Accelerating, speed is now 20\n",
      "Braking, speed is now 10\n",
      "Stopping the car\n",
      "Starting the car\n",
      "Accelerating, speed is now 10\n",
      "Braking, speed is now 0\n",
      "Stopping the car\n"
     ]
    }
   ],
   "source": [
    "class Car:\n",
    "    def __init__(self, make, model, year, color):\n",
    "        self.make = make\n",
    "        self.model = model\n",
    "        self.year = year\n",
    "        self.color = color\n",
    "        self.speed = 0\n",
    "\n",
    "    def start(self):\n",
    "        print(\"Starting the car\")\n",
    "\n",
    "    def stop(self):\n",
    "        print(\"Stopping the car\")\n",
    "\n",
    "    def accelerate(self):\n",
    "        self.speed += 10\n",
    "        print(\"Accelerating, speed is now\", self.speed)\n",
    "\n",
    "    def brake(self):\n",
    "        if self.speed > 0:\n",
    "            self.speed -= 10\n",
    "            print(\"Braking, speed is now\", self.speed)\n",
    "        else:\n",
    "            print(\"Car is already stopped\")\n",
    "\n",
    "# Creating objects of the class\n",
    "car1 = Car(\"Toyota\", \"Camry\", 2022, \"Black\")\n",
    "car2 = Car(\"Honda\", \"Civic\", 2022, \"White\")\n",
    "\n",
    "# Using methods of the objects\n",
    "car1.start()\n",
    "car1.accelerate()\n",
    "car1.accelerate()\n",
    "car1.brake()\n",
    "car1.stop()\n",
    "\n",
    "car2.start()\n",
    "car2.accelerate()\n",
    "car2.brake()\n",
    "car2.stop()\n"
   ]
  },
  {
   "cell_type": "markdown",
   "id": "efa4d876-d8c1-4d7c-8d30-822fed557e44",
   "metadata": {},
   "source": [
    "# Q2 Name the four pillars of OOPs.\n",
    "\n",
    "The four pillars of OOPs are:\n",
    "\n",
    "Encapsulation: Encapsulation is the process of hiding the implementation details and exposing only the necessary information to the user. It allows for more secure and organized code.\n",
    "\n",
    "Abstraction: Abstraction is the process of focusing on essential features of an object while ignoring its implementation details. It allows for more flexible and maintainable code.\n",
    "\n",
    "Inheritance: Inheritance is the process of creating a new class from an existing class, inheriting its attributes and methods. It allows for code reusability and promotes the creation of a hierarchical class structure.\n",
    "\n",
    "Polymorphism: Polymorphism is the ability of objects to take on different forms or behaviors. It allows for more flexible and extensible code.\n"
   ]
  },
  {
   "cell_type": "markdown",
   "id": "22b2c748-dc3b-4b8a-82f3-e5d03f3c04b3",
   "metadata": {},
   "source": [
    "# Q3. Explain why the __init__() function is used. Give a suitable example.\n",
    "In Python, the __init__() function is a special method that is used to initialize the instance variables of a class when an object of the class is created. This function is called a constructor, and it is automatically called when an object is created.\n",
    "\n",
    "The main purpose of the __init__() function is to initialize the instance variables of a class with values passed as arguments during object creation. It can also perform other initialization tasks that need to be done when an object is created.\n",
    "\n",
    "Here is an example of a class called Person that uses the __init__() function to initialize the name and age instance variables:"
   ]
  },
  {
   "cell_type": "code",
   "execution_count": 3,
   "id": "7fe28dc6-0ec8-479c-b6a4-b011c6a452df",
   "metadata": {},
   "outputs": [
    {
     "name": "stdout",
     "output_type": "stream",
     "text": [
      "Name: John\n",
      "Age: 30\n"
     ]
    }
   ],
   "source": [
    "class Person:\n",
    "    def __init__(self, name, age):\n",
    "        self.name = name\n",
    "        self.age = age\n",
    "\n",
    "    def display_info(self):\n",
    "        print(\"Name:\", self.name)\n",
    "        print(\"Age:\", self.age)\n",
    "\n",
    "# Creating an object of the Person class\n",
    "person1 = Person(\"John\", 30)\n",
    "\n",
    "# Calling the display_info() method of the person1 object\n",
    "person1.display_info()\n"
   ]
  },
  {
   "cell_type": "markdown",
   "id": "1dcfc37b-be78-47c1-aa18-753844fe6162",
   "metadata": {},
   "source": [
    "# Q4. Why self is used in OOPs?\n",
    "\n",
    "In object-oriented programming, self is a reference to the instance of the class, and it is used to access the attributes and methods of the class within its own methods. When a method is called on an instance of a class, self is passed implicitly as the first argument to that method, which allows the method to access and manipulate the state of that instance."
   ]
  },
  {
   "cell_type": "code",
   "execution_count": 4,
   "id": "ff37e323-da3d-4ba9-9359-6245959a6dd2",
   "metadata": {},
   "outputs": [
    {
     "name": "stdout",
     "output_type": "stream",
     "text": [
      "Engine started.\n"
     ]
    }
   ],
   "source": [
    "class Car:\n",
    "    def __init__(self, make, model, year):\n",
    "        self.make = make\n",
    "        self.model = model\n",
    "        self.year = year\n",
    "        self.engine_running = False\n",
    "\n",
    "    def start_engine(self):\n",
    "        self.engine_running = True\n",
    "        print(\"Engine started.\")\n",
    "\n",
    "    def stop_engine(self):\n",
    "        self.engine_running = False\n",
    "        print(\"Engine stopped.\")\n",
    "\n",
    "my_car = Car(\"Honda\", \"Civic\", 2020)\n",
    "my_car.start_engine()\n"
   ]
  },
  {
   "cell_type": "markdown",
   "id": "b15858a5-4392-4efe-99fc-5ec16095826d",
   "metadata": {},
   "source": [
    "# Q5. What is inheritance? Give an example for each type of inheritance.\n",
    "\n",
    "Inheritance is a key concept in object-oriented programming where a class can inherit properties and behaviors from a parent class. The child class, which is also known as the subclass, can access all the properties and methods of the parent class, also known as the superclass.\n",
    "\n",
    "There are several types of inheritance:\n",
    "\n",
    "Single inheritance: In this type of inheritance, a subclass inherits the properties and methods of only one superclass."
   ]
  },
  {
   "cell_type": "code",
   "execution_count": 1,
   "id": "48b7d71f-932f-42f2-b008-086471c020f8",
   "metadata": {},
   "outputs": [],
   "source": [
    "class Vehicle:\n",
    "    def __init__(self, color, brand):\n",
    "        self.color = color\n",
    "        self.brand = brand\n",
    "        \n",
    "class Car(Vehicle):\n",
    "    def __init__(self, color, brand, model):\n",
    "        super().__init__(color, brand)\n",
    "        self.model = model\n"
   ]
  },
  {
   "cell_type": "markdown",
   "id": "d51b8738-7900-4d3c-8aee-5b349fb3da34",
   "metadata": {},
   "source": [
    "Multiple inheritance: In this type of inheritance, a subclass inherits properties and methods from multiple superclasses."
   ]
  },
  {
   "cell_type": "code",
   "execution_count": 2,
   "id": "cb9efae7-a74d-4901-a913-1476694163cc",
   "metadata": {},
   "outputs": [],
   "source": [
    "class Shape:\n",
    "    def __init__(self, color):\n",
    "        self.color = color\n",
    "        \n",
    "class Polygon:\n",
    "    def __init__(self, sides):\n",
    "        self.sides = sides\n",
    "        \n",
    "class Rectangle(Shape, Polygon):\n",
    "    def __init__(self, color, sides, width, height):\n",
    "        Shape.__init__(self, color)\n",
    "        Polygon.__init__(self, sides)\n",
    "        self.width = width\n",
    "        self.height = height\n"
   ]
  },
  {
   "cell_type": "markdown",
   "id": "5fc57ca1-7b01-4e98-913a-dd3bbd262114",
   "metadata": {},
   "source": [
    "Multi-level inheritance: In this type of inheritance, a subclass inherits properties and methods from a parent class and the parent class inherits from another parent class."
   ]
  },
  {
   "cell_type": "code",
   "execution_count": 3,
   "id": "ff8c9b98-c7ed-42b4-8a31-9d8a808c0d7f",
   "metadata": {},
   "outputs": [],
   "source": [
    "class Animal:\n",
    "    def __init__(self, name):\n",
    "        self.name = name\n",
    "\n",
    "class Mammal(Animal):\n",
    "    def __init__(self, name, sound):\n",
    "        super().__init__(name)\n",
    "        self.sound = sound\n",
    "\n",
    "class Dog(Mammal):\n",
    "    def __init__(self, name, sound, breed):\n",
    "        super().__init__(name, sound)\n",
    "        self.breed = breed\n"
   ]
  },
  {
   "cell_type": "markdown",
   "id": "7bb86742-4094-4d2c-ab1d-9d527b7c55f5",
   "metadata": {},
   "source": [
    "Hierarchical inheritance: In this type of inheritance, multiple subclasses inherit properties and methods from a single superclass."
   ]
  },
  {
   "cell_type": "code",
   "execution_count": 4,
   "id": "c0d9f750-3a85-4f19-9f9c-3aa627d26933",
   "metadata": {},
   "outputs": [],
   "source": [
    "class Shape:\n",
    "    def __init__(self, color):\n",
    "        self.color = color\n",
    "        \n",
    "class Circle(Shape):\n",
    "    def __init__(self, color, radius):\n",
    "        super().__init__(color)\n",
    "        self.radius = radius\n",
    "        \n",
    "class Square(Shape):\n",
    "    def __init__(self, color, side):\n",
    "        super().__init__(color)\n",
    "        self.side = side\n"
   ]
  },
  {
   "cell_type": "code",
   "execution_count": null,
   "id": "147956ef-e8e4-43b1-a9bd-d95eaa53d792",
   "metadata": {},
   "outputs": [],
   "source": []
  }
 ],
 "metadata": {
  "kernelspec": {
   "display_name": "Python 3 (ipykernel)",
   "language": "python",
   "name": "python3"
  },
  "language_info": {
   "codemirror_mode": {
    "name": "ipython",
    "version": 3
   },
   "file_extension": ".py",
   "mimetype": "text/x-python",
   "name": "python",
   "nbconvert_exporter": "python",
   "pygments_lexer": "ipython3",
   "version": "3.10.8"
  }
 },
 "nbformat": 4,
 "nbformat_minor": 5
}

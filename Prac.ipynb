{
 "cells": [
  {
   "cell_type": "code",
   "execution_count": 1,
   "metadata": {},
   "outputs": [
    {
     "name": "stdout",
     "output_type": "stream",
     "text": [
      "{'uci_id': 547, 'name': 'Algerian Forest Fires', 'repository_url': 'https://archive.ics.uci.edu/dataset/547/algerian+forest+fires+dataset', 'data_url': 'https://archive.ics.uci.edu/static/public/547/data.csv', 'abstract': 'The dataset includes 244 instances that regroup a data of two regions of Algeria.', 'area': 'Biology', 'tasks': ['Classification', 'Regression'], 'characteristics': ['Multivariate'], 'num_instances': 244, 'num_features': 14, 'feature_types': ['Real'], 'demographics': [], 'target_col': ['Classes  '], 'index_col': None, 'has_missing_values': 'no', 'missing_values_symbol': None, 'year_of_dataset_creation': 2019, 'last_updated': 'Tue Mar 19 2024', 'dataset_doi': '10.24432/C5KW4N', 'creators': [' Faroudja Abid'], 'intro_paper': {'title': ' Predicting Forest Fire in Algeria Using Data Mining Techniques: Case Study of the Decision Tree Algorithm', 'authors': 'Faroudja Abid, N.Izeboudjen', 'published_in': 'Ezziyyani M. (eds) Advanced Intelligent Systems for Sustainable Development (AI2SD’2019). Advances in Intelligent Systems and Computing', 'year': 2020, 'url': 'https://rdcu.be/doIk7', 'doi': None}, 'additional_info': {'summary': 'The dataset includes 244 instances that regroup a data of two regions of Algeria,namely the Bejaia region located in the northeast of Algeria and the Sidi Bel-abbes region located in the northwest of Algeria.\\r\\n\\r\\n122 instances for each region. \\r\\n\\r\\nThe period from June 2012 to September 2012. \\r\\nThe dataset includes 11 attribues and 1 output attribue (class)\\r\\nThe 244 instances have been classified into â€˜fireâ€™ (138 classes) and â€˜not fireâ€™ (106 classes) classes.', 'purpose': None, 'funded_by': None, 'instances_represent': None, 'recommended_data_splits': None, 'sensitive_data': None, 'preprocessing_description': None, 'variable_info': \"1. Date : (DD/MM/YYYY) Day, month ('june' to 'september'), year (2012)\\r\\nWeather data observations \\r\\n2. Temp : temperature noon (temperature max)  in Celsius degrees: 22 to 42\\r\\n3. RH : Relative Humidity in %: 21 to 90 \\r\\n4. Ws :Wind speed in km/h: 6 to 29 \\r\\n5. Rain: total day in mm: 0 to 16.8\\r\\nFWI Components  \\r\\n6. Fine Fuel Moisture Code (FFMC) index from the FWI system: 28.6 to 92.5 \\r\\n7. Duff Moisture Code (DMC) index from the FWI system: 1.1 to 65.9 \\r\\n8. Drought Code (DC) index from the FWI system:  7 to 220.4\\r\\n9. Initial Spread Index (ISI) index from the FWI system: 0 to 18.5 \\r\\n10. Buildup Index (BUI) index from the FWI system: 1.1 to 68\\r\\n11. Fire Weather Index (FWI) Index: 0 to 31.1\\r\\n12. Classes: two classes, namely   â€œFireâ€\\x9d and â€œnot Fireâ€\\x9d\\r\\n\", 'citation': None}}\n",
      "           name     role         type demographic               description  \\\n",
      "0        region  Feature  Categorical        None  Bejaia or Sidi-Bel Abbes   \n",
      "1           day  Feature      Integer        None                      None   \n",
      "2         month  Feature      Integer        None                      None   \n",
      "3          year  Feature      Integer        None                      None   \n",
      "4   Temperature  Feature      Integer        None          temperature noon   \n",
      "5            RH  Feature      Integer        None         relative humidity   \n",
      "6            Ws  Feature      Integer        None                wind speed   \n",
      "7         Rain   Feature   Continuous        None                      None   \n",
      "8          FFMC  Feature   Continuous        None   Fine Fuel Moisture Code   \n",
      "9           DMC  Feature   Continuous        None        Duff Moisture Code   \n",
      "10           DC  Feature   Continuous        None              Drought Code   \n",
      "11          ISI  Feature   Continuous        None      Initial Spread Index   \n",
      "12          BUI  Feature   Continuous        None             Buildup Index   \n",
      "13          FWI  Feature   Continuous        None        Fire Weather Index   \n",
      "14    Classes     Target  Categorical        None                      None   \n",
      "\n",
      "   units missing_values  \n",
      "0   None             no  \n",
      "1   None             no  \n",
      "2   None             no  \n",
      "3   None             no  \n",
      "4      C             no  \n",
      "5      %             no  \n",
      "6   km/h             no  \n",
      "7     mm             no  \n",
      "8   None             no  \n",
      "9   None             no  \n",
      "10  None             no  \n",
      "11  None             no  \n",
      "12  None             no  \n",
      "13  None             no  \n",
      "14  None             no  \n"
     ]
    }
   ],
   "source": [
    "from ucimlrepo import fetch_ucirepo \n",
    "  \n",
    "# fetch dataset \n",
    "algerian_forest_fires = fetch_ucirepo(id=547) \n",
    "  \n",
    "# data (as pandas dataframes) \n",
    "X = algerian_forest_fires.data.features \n",
    "y = algerian_forest_fires.data.targets \n",
    "  \n",
    "# metadata \n",
    "print(algerian_forest_fires.metadata) \n",
    "  \n",
    "# variable information \n",
    "print(algerian_forest_fires.variables) \n"
   ]
  },
  {
   "cell_type": "code",
   "execution_count": 4,
   "metadata": {},
   "outputs": [
    {
     "ename": "AttributeError",
     "evalue": "module 'pandas' has no attribute 'dataframes'",
     "output_type": "error",
     "traceback": [
      "\u001b[0;31m---------------------------------------------------------------------------\u001b[0m",
      "\u001b[0;31mAttributeError\u001b[0m                            Traceback (most recent call last)",
      "Cell \u001b[0;32mIn[4], line 2\u001b[0m\n\u001b[1;32m      1\u001b[0m \u001b[38;5;28;01mimport\u001b[39;00m \u001b[38;5;21;01mpandas\u001b[39;00m \u001b[38;5;28;01mas\u001b[39;00m \u001b[38;5;21;01mpd\u001b[39;00m\n\u001b[0;32m----> 2\u001b[0m df \u001b[38;5;241m=\u001b[39m\u001b[43mpd\u001b[49m\u001b[38;5;241;43m.\u001b[39;49m\u001b[43mdataframes\u001b[49m(algerian_forest_fires)\n\u001b[1;32m      3\u001b[0m df\u001b[38;5;241m.\u001b[39mhead()\n",
      "\u001b[0;31mAttributeError\u001b[0m: module 'pandas' has no attribute 'dataframes'"
     ]
    }
   ],
   "source": [
    "import pandas as pd\n",
    "df =pd.(algerian_forest_fires)\n",
    "df.head()"
   ]
  }
 ],
 "metadata": {
  "kernelspec": {
   "display_name": "Python 3.8.10 64-bit",
   "language": "python",
   "name": "python3"
  },
  "language_info": {
   "codemirror_mode": {
    "name": "ipython",
    "version": 3
   },
   "file_extension": ".py",
   "mimetype": "text/x-python",
   "name": "python",
   "nbconvert_exporter": "python",
   "pygments_lexer": "ipython3",
   "version": "3.8.10"
  },
  "orig_nbformat": 4,
  "vscode": {
   "interpreter": {
    "hash": "e7370f93d1d0cde622a1f8e1c04877d8463912d04d973331ad4851f04de6915a"
   }
  }
 },
 "nbformat": 4,
 "nbformat_minor": 2
}

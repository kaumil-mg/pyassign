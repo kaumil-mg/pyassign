{
 "cells": [
  {
   "cell_type": "markdown",
   "metadata": {},
   "source": [
    "Q1. Data encoding refers to the process of converting categorical data into a numerical format that can be used for analysis by machine learning algorithms. It's useful in data science because many machine learning algorithms require numerical input, and encoding allows us to represent categorical variables in a way that the algorithms can understand.\n",
    "\n",
    "Q2. Nominal encoding, also known as label encoding, assigns a unique numerical value to each category in a categorical variable. For example, in a \"color\" variable with categories \"red,\" \"green,\" and \"blue,\" we could encode them as 0, 1, and 2, respectively. This encoding is useful for ordinal variables where the order doesn't matter.\n",
    "\n",
    "Q3. Nominal encoding is preferred over one-hot encoding when the categorical variable has a large number of unique categories. One-hot encoding creates a binary column for each category, which can lead to a high-dimensional and sparse dataset. For example, if we have a variable for country with hundreds of unique values, nominal encoding would be preferred to avoid the explosion in dimensionality.\n",
    "\n",
    "Q4. If the dataset contains categorical data with 5 unique values, nominal encoding would be a suitable choice. This is because nominal encoding assigns a unique numerical value to each category, allowing the data to be represented numerically without introducing high dimensionality.\n",
    "\n",
    "Q5. If two columns are categorical and each has 5 unique values, nominal encoding would create 2 new columns (one for each categorical variable), each with 5 unique values.\n",
    "\n",
    "Q6. For a dataset containing information about different types of animals, including their species, habitat, and diet, one-hot encoding would be a suitable choice. This is because each categorical variable represents distinct categories with no inherent order, and one-hot encoding preserves the independence of these categories without imposing any ordinal relationship.\n",
    "\n",
    "Q7. For the telecommunications dataset containing features like gender and contract type, we would use nominal encoding to transform the categorical data into numerical data. Here's a step-by-step explanation:\n",
    "- For gender, we can assign 0 for \"male\" and 1 for \"female\" using nominal encoding.\n",
    "- For contract type, if there are multiple categories like \"month-to-month,\" \"one year,\" and \"two year,\" we would assign numerical values such as 0, 1, and 2 using nominal encoding."
   ]
  },
  {
   "cell_type": "markdown",
   "metadata": {},
   "source": []
  }
 ],
 "metadata": {
  "language_info": {
   "name": "python"
  },
  "orig_nbformat": 4
 },
 "nbformat": 4,
 "nbformat_minor": 2
}

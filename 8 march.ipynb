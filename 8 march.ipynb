{
 "cells": [
  {
   "cell_type": "markdown",
   "id": "c00a4db4-f4e1-49ef-83e0-8219fbc66e9d",
   "metadata": {},
   "source": [
    "Q1. What is the Probability density function?\n",
    "\n",
    "The Probability Density Function (PDF) is a fundamental concept in probability theory and statistics. It describes the likelihood of a continuous random variable taking on a specific value within a given range. In simpler terms, the PDF provides a way to understand the distribution of probabilities over a continuous range of possible outcomes.\n",
    "\n",
    "For a continuous random variable \\(X\\), the PDF is denoted as \\(f(x)\\), and it satisfies the following properties:\n",
    "\n",
    "1. Non-negativity: \\(f(x) \\geq 0\\) for all \\(x\\) in the range of \\(X\\).\n",
    "2. Integration: The integral of the PDF over the entire range of possible values equals 1: \\(\\int_{-\\infty}^{\\infty} f(x) \\, dx = 1\\).\n",
    "\n",
    "Mathematically, the PDF does not give you the probability of a specific value occurring, since the probability of a single point in a continuous distribution is infinitesimally small. Instead, the probability of an event occurring within a certain interval can be calculated by integrating the PDF over that interval.\n",
    "\n",
    "In equation form, for a continuous random variable \\(X\\) within the interval \\([a, b]\\), the probability of \\(X\\) falling within that interval is given by:\n",
    "\n",
    "\\[P(a \\leq X \\leq b) = \\int_{a}^{b} f(x) \\, dx.\\]\n",
    "\n",
    "Different probability distributions have different PDFs. Some well-known examples of continuous probability distributions include the normal distribution (Gaussian distribution), exponential distribution, uniform distribution, and beta distribution. Each distribution has a distinct shape, mean, and standard deviation, and the PDF characterizes their behavior and the likelihood of different outcomes occurring within their respective ranges.\n",
    "\n",
    "\n",
    "Q2. What are the types of Probability distribution?\n",
    "\n",
    "There are several types of probability distributions, each describing different patterns of probability for random variables. These distributions can be broadly categorized into two main types: discrete probability distributions and continuous probability distributions.\n",
    "\n",
    "**1. Discrete Probability Distributions:**\n",
    "   Discrete distributions describe the probabilities of specific outcomes in a finite or countable set of possible values. Each possible outcome is associated with a non-negative probability. Some common examples include:\n",
    "\n",
    "   - **Bernoulli Distribution:** Models a binary outcome (success or failure) with a single parameter, usually denoted as \\(p\\), which represents the probability of success.\n",
    "   - **Binomial Distribution:** Describes the number of successes in a fixed number of independent Bernoulli trials. It has two parameters: \\(n\\) (number of trials) and \\(p\\) (probability of success in each trial).\n",
    "   - **Poisson Distribution:** Models the number of events occurring in a fixed interval of time or space. It is characterized by a single parameter, usually denoted as \\(\\lambda\\), which represents the average rate of occurrence.\n",
    "   - **Geometric Distribution:** Represents the number of trials needed to achieve the first success in a sequence of independent Bernoulli trials. It is characterized by the probability of success, \\(p\\).\n",
    "   - **Hypergeometric Distribution:** Describes the probability of drawing a specific number of successes from a finite population without replacement. It has parameters \\(N\\) (population size), \\(K\\) (number of successes in the population), \\(n\\) (number of draws), and \\(x\\) (desired number of successes in the draws).\n",
    "\n",
    "**2. Continuous Probability Distributions:**\n",
    "   Continuous distributions describe the probabilities of outcomes in a continuous range of values. The probabilities are associated with intervals rather than individual values. Some common examples include:\n",
    "\n",
    "   - **Normal Distribution (Gaussian Distribution):** One of the most widely known distributions, characterized by its bell-shaped curve. It's defined by two parameters: the mean (\\(\\mu\\)) and the standard deviation (\\(\\sigma\\)).\n",
    "   - **Uniform Distribution:** All outcomes in a given range are equally likely. It is defined by its lower and upper bounds.\n",
    "   - **Exponential Distribution:** Models the time between events in a Poisson process. It's characterized by the parameter \\(\\lambda\\), which is the rate parameter.\n",
    "   - **Beta Distribution:** Describes the distribution of probabilities when dealing with proportions or probabilities. It has two shape parameters (\\(\\alpha\\) and \\(\\beta\\)).\n",
    "   - **Gamma Distribution:** Generalizes the exponential distribution and can model time until multiple events occur. It has two parameters: shape (\\(k\\)) and scale (\\(\\theta\\)).\n",
    "   - **Chi-squared Distribution:** Often used in hypothesis testing and confidence interval estimation. It depends on the degrees of freedom (\\(k\\)).\n",
    "\n",
    "These are just a few examples of the many probability distributions that exist. The choice of distribution depends on the characteristics of the data and the context in which it's being analyzed or modeled.\n",
    "\n"
   ]
  },
  {
   "cell_type": "code",
   "execution_count": 2,
   "id": "724d753d-55df-41e9-826c-ca140b6fb8ee",
   "metadata": {},
   "outputs": [
    {
     "name": "stdout",
     "output_type": "stream",
     "text": [
      "PDF at x = 0.5: 0.3520653267642995\n"
     ]
    }
   ],
   "source": [
    "\n",
    "# Q3. Write a Python function to calculate the probability density function of a normal distribution with given mean and standard deviation at a given point.\n",
    "\n",
    "import math\n",
    "\n",
    "def normal_pdf(x, mean, std_dev):\n",
    "    \"\"\"\n",
    "    Calculate the probability density function (PDF) of a normal distribution at a given point.\n",
    "    \n",
    "    :param x: The point at which to evaluate the PDF.\n",
    "    :param mean: The mean of the normal distribution.\n",
    "    :param std_dev: The standard deviation of the normal distribution.\n",
    "    :return: The PDF value at the given point.\n",
    "    \"\"\"\n",
    "    coefficient = 1 / (std_dev * math.sqrt(2 * math.pi))\n",
    "    exponent = -((x - mean) ** 2) / (2 * std_dev ** 2)\n",
    "    pdf_value = coefficient * math.exp(exponent)\n",
    "    return pdf_value\n",
    "\n",
    "# Example usage\n",
    "mean = 0.0\n",
    "std_dev = 1.0\n",
    "x_value = 0.5\n",
    "pdf_at_x = normal_pdf(x_value, mean, std_dev)\n",
    "print(f\"PDF at x = {x_value}: {pdf_at_x}\")\n"
   ]
  },
  {
   "cell_type": "markdown",
   "id": "ce80d7c7-323e-4ceb-9e82-710a07bf4d54",
   "metadata": {},
   "source": [
    "Q4. What are the properties of Binomial distribution? Give two examples of events where binomial distribution can be applied.\n",
    "\n",
    "The Binomial distribution is a discrete probability distribution that models the number of successes in a fixed number of independent Bernoulli trials, where each trial has only two possible outcomes: success (usually denoted as \"S\") or failure (usually denoted as \"F\"). The Binomial distribution has the following properties:\n",
    "\n",
    "1. **Fixed Number of Trials:** The distribution is defined for a fixed number \\(n\\) of trials.\n",
    "\n",
    "2. **Independent Trials:** Each trial is assumed to be independent of the others. The outcome of one trial does not affect the outcomes of other trials.\n",
    "\n",
    "3. **Constant Probability:** The probability of success \\(p\\) remains constant across all trials, while the probability of failure \\(q\\) (which is \\(1 - p\\)) also remains constant.\n",
    "\n",
    "4. **Discrete Outcomes:** The Binomial distribution deals with a discrete number of successes in the range from 0 to \\(n\\), where \\(n\\) is the number of trials.\n",
    "\n",
    "5. **Probability Mass Function:** The probability mass function (PMF) of the Binomial distribution gives the probability of observing a specific number of successes in \\(n\\) trials.\n",
    "\n",
    "6. **Parameters:** The Binomial distribution is characterized by two parameters: \\(n\\) (the number of trials) and \\(p\\) (the probability of success in each trial).\n",
    "\n",
    "The PMF of the Binomial distribution is given by:\n",
    "\n",
    "\\[P(X = k) = \\binom{n}{k} \\cdot p^k \\cdot q^{n-k}\\]\n",
    "\n",
    "where:\n",
    "- \\(X\\) is the random variable representing the number of successes.\n",
    "- \\(k\\) is a specific number of successes (ranging from 0 to \\(n\\)).\n",
    "- \\(\\binom{n}{k}\\) is the binomial coefficient, equal to \\(\\frac{n!}{k!(n-k)!}\\).\n",
    "- \\(p\\) is the probability of success in each trial.\n",
    "- \\(q\\) is the probability of failure in each trial (\\(q = 1 - p\\)).\n",
    "\n",
    "Two examples of events where the Binomial distribution can be applied are:\n",
    "\n",
    "1. **Flipping a Coin:** Consider flipping a fair coin (\\(p = 0.5\\)) multiple times and counting the number of heads obtained in a fixed number of flips. This scenario fits the Binomial distribution because each flip is an independent trial, and the outcome (heads or tails) is a binary success/failure event.\n",
    "\n",
    "2. **Defective Items in Production:** In manufacturing, you might be interested in the number of defective items in a batch of products. Assuming a constant probability of a product being defective, you can model the number of defective items in the batch using the Binomial distribution.\n",
    "\n",
    "In both of these examples, the Binomial distribution helps describe the distribution of a discrete number of successes in a fixed number of trials with constant probabilities.\n"
   ]
  },
  {
   "cell_type": "code",
   "execution_count": 3,
   "id": "9bf50a26-5459-426d-8293-cee012846636",
   "metadata": {},
   "outputs": [
    {
     "data": {
      "image/png": "[encoded data removed]",
      "text/plain": [
       "<Figure size 640x480 with 1 Axes>"
      ]
     },
     "metadata": {},
     "output_type": "display_data"
    }
   ],
   "source": [
    "#Q5. Generate a random sample of size 1000 from a binomial distribution with probability of success 0.4 and plot a histogram of the results using matplotlib.\n",
    "import numpy as np\n",
    "import matplotlib.pyplot as plt\n",
    "\n",
    "# Parameters for the binomial distribution\n",
    "n = 1000  # Number of trials\n",
    "p = 0.4   # Probability of success\n",
    "\n",
    "# Generate a random sample from the binomial distribution\n",
    "random_sample = np.random.binomial(n, p, size=1000)\n",
    "\n",
    "# Plot a histogram of the random sample\n",
    "plt.hist(random_sample, bins=np.arange(0, n+1), density=True, alpha=0.7, color='blue')\n",
    "plt.title('Histogram of Binomial Distribution')\n",
    "plt.xlabel('Number of Successes')\n",
    "plt.ylabel('Probability')\n",
    "plt.grid(True)\n",
    "plt.show()\n"
   ]
  },
  {
   "cell_type": "code",
   "execution_count": 4,
   "id": "a8e48a00-b8aa-41fb-8f66-4102ac3ccf2d",
   "metadata": {},
   "outputs": [
    {
     "name": "stdout",
     "output_type": "stream",
     "text": [
      "CDF at x = 2: 0.42319008112684353\n"
     ]
    }
   ],
   "source": [
    "\n",
    "#Q6. Write a Python function to calculate the cumulative distribution function of a Poisson distribution with given mean at a given point.\n",
    "\n",
    "import math\n",
    "\n",
    "def poisson_cdf(x, mean):\n",
    "    \"\"\"\n",
    "    Calculate the cumulative distribution function (CDF) of a Poisson distribution at a given point.\n",
    "    \n",
    "    :param x: The point at which to evaluate the CDF.\n",
    "    :param mean: The mean of the Poisson distribution.\n",
    "    :return: The CDF value at the given point.\n",
    "    \"\"\"\n",
    "    cdf_value = 0.0\n",
    "    for k in range(int(x) + 1):\n",
    "        cdf_value += (math.exp(-mean) * mean ** k) / math.factorial(k)\n",
    "    return cdf_value\n",
    "\n",
    "# Example usage\n",
    "mean = 3.0\n",
    "x_value = 2\n",
    "cdf_at_x = poisson_cdf(x_value, mean)\n",
    "print(f\"CDF at x = {x_value}: {cdf_at_x}\")\n"
   ]
  },
  {
   "cell_type": "markdown",
   "id": "ec26253f-4f22-4d51-a8c6-0386566fdc00",
   "metadata": {},
   "source": [
    "\n",
    "Q7. How Binomial distribution different from Poisson distribution?\n",
    "\n",
    "The Binomial distribution and the Poisson distribution are both discrete probability distributions that are commonly used to model the number of events or successes in a given situation. However, they are suited for different types of scenarios and have distinct characteristics. Here are the key differences between the two distributions:\n",
    "\n",
    "**1. Nature of Events:**\n",
    "   - **Binomial Distribution:** The Binomial distribution models a fixed number \\(n\\) of independent trials, each with two possible outcomes (success or failure). The probability of success \\(p\\) remains constant across all trials.\n",
    "   - **Poisson Distribution:** The Poisson distribution models the number of events occurring in a fixed interval of time or space. It is used when events occur randomly in time or space, and there is no concept of \"trials\" or \"successes\" in the same way as the Binomial distribution.\n",
    "\n",
    "**2. Parameters:**\n",
    "   - **Binomial Distribution:** The Binomial distribution is characterized by two parameters: \\(n\\) (number of trials) and \\(p\\) (probability of success in each trial).\n",
    "   - **Poisson Distribution:** The Poisson distribution is characterized by a single parameter \\(\\lambda\\) (lambda), which represents the average rate of events occurring in the given interval.\n",
    "\n",
    "**3. Number of Trials:**\n",
    "   - **Binomial Distribution:** The Binomial distribution requires a fixed number \\(n\\) of trials. The number of successes is counted within these \\(n\\) trials.\n",
    "   - **Poisson Distribution:** The Poisson distribution is not concerned with the number of trials; it focuses on the occurrence of events in a continuous manner over time or space.\n",
    "\n",
    "**4. Probability of Success:**\n",
    "   - **Binomial Distribution:** The probability of success \\(p\\) remains constant across all trials in the Binomial distribution.\n",
    "   - **Poisson Distribution:** The Poisson distribution does not involve a probability of success; it focuses on modeling the rate of event occurrences.\n",
    "\n",
    "**5. Application Scenarios:**\n",
    "   - **Binomial Distribution:** The Binomial distribution is suitable when you have a fixed number of trials and want to model the number of successes in those trials, such as coin flips or counting defective items in a batch.\n",
    "   - **Poisson Distribution:** The Poisson distribution is appropriate when you want to model the occurrence of rare events in continuous time or space, like the number of phone calls received at a call center within a given time period.\n",
    "\n",
    "In summary, the Binomial distribution is used for situations with a fixed number of trials and binary outcomes, while the Poisson distribution is used to model the occurrence of events in continuous time or space without specifying a fixed number of trials.\n"
   ]
  },
  {
   "cell_type": "code",
   "execution_count": 6,
   "id": "fbf7a358-3f19-45b8-b44e-d8736c355eab",
   "metadata": {},
   "outputs": [
    {
     "name": "stdout",
     "output_type": "stream",
     "text": [
      "Sample Mean: 5.115\n",
      "Sample Variance: 4.748523523523523\n"
     ]
    }
   ],
   "source": [
    "\n",
    "#Q8. Generate a random sample of size 1000 from a Poisson distribution with mean 5 and calculate the sample mean and variance.\n",
    "import numpy as np\n",
    "\n",
    "# Parameters for the Poisson distribution\n",
    "mean = 5\n",
    "\n",
    "# Generate a random sample from the Poisson distribution\n",
    "random_sample = np.random.poisson(mean, size=1000)\n",
    "\n",
    "# Calculate the sample mean and variance\n",
    "sample_mean = np.mean(random_sample)\n",
    "sample_variance = np.var(random_sample, ddof=1)  # Use ddof=1 for sample variance\n",
    "\n",
    "print(\"Sample Mean:\", sample_mean)\n",
    "print(\"Sample Variance:\", sample_variance)\n"
   ]
  },
  {
   "cell_type": "code",
   "execution_count": null,
   "id": "8218c586-0dec-41b3-b192-f55235809095",
   "metadata": {},
   "outputs": [],
   "source": []
  }
 ],
 "metadata": {
  "kernelspec": {
   "display_name": "Python 3 (ipykernel)",
   "language": "python",
   "name": "python3"
  },
  "language_info": {
   "codemirror_mode": {
    "name": "ipython",
    "version": 3
   },
   "file_extension": ".py",
   "mimetype": "text/x-python",
   "name": "python",
   "nbconvert_exporter": "python",
   "pygments_lexer": "ipython3",
   "version": "3.10.8"
  }
 },
 "nbformat": 4,
 "nbformat_minor": 5
}

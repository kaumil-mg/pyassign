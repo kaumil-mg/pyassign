{
 "cells": [
  {
   "cell_type": "markdown",
   "id": "22d56c88-ac55-469f-aa27-e46989629026",
   "metadata": {},
   "source": [
    "1. Who developed Python Programming Language? "
   ]
  },
  {
   "cell_type": "markdown",
   "id": "f8ad92e8-6abb-4a0b-99f3-555e0b73e894",
   "metadata": {},
   "source": [
    "Python programming language was developed by Guido van Rossum in the late 1980s."
   ]
  },
  {
   "cell_type": "markdown",
   "id": "820c8ce9-14c7-49ba-9ffb-377d700cec0b",
   "metadata": {},
   "source": [
    "2. Which type of Programming does Python support?"
   ]
  },
  {
   "cell_type": "markdown",
   "id": "5835f892-8b25-4f95-a360-349842e2ea30",
   "metadata": {},
   "source": [
    " Python is a multi-paradigm programming language that supports the following programming paradigms:\n",
    "\n",
    "Object-Oriented Programming (OOP)\n",
    "Imperative Programming\n",
    "Functional Programming\n",
    "Procedural Programming\n",
    "Reflective Programming.\n",
    "\n",
    "\n"
   ]
  },
  {
   "cell_type": "markdown",
   "id": "1874e3fe-d1a8-483c-bf50-a043fe4588ab",
   "metadata": {},
   "source": [
    "3. Is Python case sensitive when dealing with identifiers? "
   ]
  },
  {
   "cell_type": "markdown",
   "id": "a35ba30e-e49d-4c25-b0ca-62b882079f7f",
   "metadata": {},
   "source": [
    "Yes, Python is case sensitive when dealing with identifiers, meaning that names like \"myVariable\" and \"myvariable\" would be considered as two separate and distinct variables."
   ]
  },
  {
   "cell_type": "markdown",
   "id": "abb15ced-497c-4c5c-a0d2-7bebc1ccbf9a",
   "metadata": {},
   "source": [
    "4. What is the correct extension of the Python file? "
   ]
  },
  {
   "cell_type": "markdown",
   "id": "0f44f8c0-3d6c-4c43-a1f8-759fd19b08d2",
   "metadata": {},
   "source": [
    "The correct extension for Python files is \".py\". Python files typically use this extension, which makes it easier to recognize them as Python code also \".ipynb\" file for jupyter notebook."
   ]
  },
  {
   "cell_type": "markdown",
   "id": "fb4963fa-7f25-4e29-a21b-6c58baf41333",
   "metadata": {
    "tags": []
   },
   "source": [
    " 5. Is Python code compiled or interpreted? \n"
   ]
  },
  {
   "cell_type": "markdown",
   "id": "4e0915b4-0a78-4e26-967e-2bcca8c3bd66",
   "metadata": {},
   "source": [
    "Python is an interpreted language, meaning that the source code is executed line by line by an interpreter, rather than being compiled into machine code and executed directly by the computer's processor. This makes Python an easy language to learn, because you can see the results of your code as you write it, and it allows for more rapid development and debugging."
   ]
  },
  {
   "cell_type": "markdown",
   "id": "bb9130bc-ef23-4885-9a7f-56703f239d21",
   "metadata": {},
   "source": [
    "6. Name a few blocks of code used to define in Python language?"
   ]
  },
  {
   "cell_type": "markdown",
   "id": "72416bb4-d704-4725-8808-53de76906943",
   "metadata": {},
   "source": [
    "In Python, blocks of code are defined using indentation and statements. Some common blocks of code used in Python are:\n",
    "\n",
    "Functions: defined using the \"def\" keyword, a function is a block of code that performs a specific task.\n",
    "\n",
    "Classes: defined using the \"class\" keyword, a class is a blueprint for creating objects (a particular data structure), providing initial values for state (member variables or attributes), and implementations of behavior (member functions or methods).\n",
    "\n",
    "Loops: defined using \"for\" and \"while\" keywords, loops are blocks of code that are executed repeatedly until a certain condition is met.\n",
    "\n",
    "Conditional statements: defined using \"if\" and \"else\" keywords, conditional statements are blocks of code that are executed only if a certain condition is met.\n",
    "\n",
    "try-except blocks: defined using the \"try\" and \"except\" keywords, try-except blocks are used to handle exceptions (errors) that occur during the execution of code."
   ]
  },
  {
   "cell_type": "markdown",
   "id": "2cc52f1a-8657-4e1f-82ae-9ccd50c839e3",
   "metadata": {},
   "source": [
    "7. State a character used to give single-line comments in Python? "
   ]
  },
  {
   "cell_type": "markdown",
   "id": "33a0515e-838d-40c6-813b-49618cab5823",
   "metadata": {},
   "source": [
    "In Python, the character \"#\" is used to give single-line comments"
   ]
  },
  {
   "cell_type": "markdown",
   "id": "a962fec6-19bd-483e-9268-c8adc1986126",
   "metadata": {},
   "source": [
    "8. Mention functions which can help us to find the version of python that we are currently working on? \n"
   ]
  },
  {
   "cell_type": "markdown",
   "id": "0b03653f-6893-41d3-b488-593d31a78f66",
   "metadata": {},
   "source": [
    "sys.version"
   ]
  },
  {
   "cell_type": "markdown",
   "id": "fab1cd0a-3b81-4c62-bb12-57c64c4e939a",
   "metadata": {},
   "source": [
    "9. Python supports the creation of anonymous functions at runtime, using a construct called \n",
    "\n",
    "Lambda\n",
    "\n",
    "10. What does pip stand for python? \n",
    "\n",
    "pip install packages\n",
    "\n",
    "11. Mention a few built-in functions in python? \n",
    "\n",
    "Print()\n",
    "len()\n",
    "int()\n",
    "float()\n",
    "str()\n",
    "lsit()\n",
    "tupple()\n",
    "dict()\n",
    "\n",
    "12. What is the maximum possible length of an identifier in Python? \n",
    "\n",
    "There is no strict limit on the maximum length of an identifier in Python, but it is limited by your system's memory. However, it is recommended to keep the length of an identifier within a reasonable range for the sake of readability and maintainability. In general, a descriptive identifier with a length of a few characters to a few words is considered appropriate for most cases.\n",
    "\n",
    "13. What are the benefits of using Python? \n",
    "\n",
    "easy to learn and read\n",
    "versatile\n",
    "cross platform compatibility\n",
    "good for prototyping\n",
    "OOP\n",
    "high level language\n",
    "\n",
    "14. How is memory managed in Python? \n",
    "\n",
    "Python's memory management system is designed to be efficient and transparent, allowing you to focus on writing your code, rather than worrying about managing memory.\n",
    "\n",
    "15. How to install Python on Windows and set path variables? \n",
    "\n",
    "Here are the steps to install Python on Windows and set the path variables:\n",
    "\n",
    "Download the latest version of Python from the official website (https://www.python.org/downloads/).\n",
    "\n",
    "Run the installation file and follow the instructions to install Python. Make sure to select the option to add Python to your system PATH during the installation process.\n",
    "\n",
    "After installation, open the Command Prompt and type python to verify that Python has been successfully installed and added to the PATH.\n",
    "\n",
    "To set the path variables, open the Start menu and search for \"Environment Variables\". Select \"Edit the system environment variables\".\n",
    "\n",
    "In the System Properties window, click on the \"Environment Variables\" button.\n",
    "\n",
    "Under \"System Variables\", scroll down and find the \"Path\" variable, then click on \"Edit\".\n",
    "\n",
    "Add the path to the Python executable to the PATH variable, which is usually located at C:\\PythonXX\\, where XX is the version number of Python installed.\n",
    "\n",
    "Close all open Command Prompt windows and open a new one to apply the changes.\n",
    "\n",
    "Verify that the path variables are set correctly by typing python in the Command Prompt. The Python interpreter should start, indicating that the path variables have been set correctly.\n",
    "\n",
    "16. Is indentation required in python?\n",
    "\n",
    "Yes"
   ]
  },
  {
   "cell_type": "code",
   "execution_count": null,
   "id": "eb362edc-15e3-4ada-a698-00d9773610e8",
   "metadata": {},
   "outputs": [],
   "source": []
  }
 ],
 "metadata": {
  "kernelspec": {
   "display_name": "Python 3 (ipykernel)",
   "language": "python",
   "name": "python3"
  },
  "language_info": {
   "codemirror_mode": {
    "name": "ipython",
    "version": 3
   },
   "file_extension": ".py",
   "mimetype": "text/x-python",
   "name": "python",
   "nbconvert_exporter": "python",
   "pygments_lexer": "ipython3",
   "version": "3.10.8"
  }
 },
 "nbformat": 4,
 "nbformat_minor": 5
}

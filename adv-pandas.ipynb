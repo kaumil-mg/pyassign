{
 "cells": [
  {
   "cell_type": "code",
   "execution_count": 1,
   "id": "abbebf95-dc98-4374-a12b-d689ed4649c6",
   "metadata": {},
   "outputs": [],
   "source": [
    "import pandas as pd"
   ]
  },
  {
   "cell_type": "markdown",
   "id": "f79dc52d-4c47-4cc1-b05c-a9e933453ce8",
   "metadata": {},
   "source": [
    "# Q1. List any five functions of the pandas library with execution.\n",
    "\n",
    "- read_csv(): This function is used to read a CSV file and create a DataFrame from it. \n",
    "\n",
    "import pandas as pd\n",
    "\n",
    "df = pd.read_csv('data.csv')\n",
    "\n",
    "- head(): This function is used to display the first few rows of a DataFrame.\n",
    "\n",
    "df.head()\n",
    "\n",
    "- groupby(): This function is used to group rows of a DataFrame by a specific column and perform operations on each group.\n",
    "\n",
    "grouped = df.groupby('Category')\n",
    "total_sales = grouped['Sales'].sum()\n",
    "\n",
    "print(total_sales)\n",
    "\n",
    "- fillna(): This function is used to fill missing values in a DataFrame. \n",
    "\n",
    "\n",
    "df['Sales'].fillna(0, inplace=True)\n",
    "\n",
    "print(df.head())\n",
    "\n",
    "- plot(): This function is used to create a variety of plots and charts from a DataFrame. \n",
    "\n",
    "import pandas as pd\n",
    "import matplotlib.pyplot as plt\n",
    "\n",
    "df = pd.read_csv('data.csv')\n",
    "\n",
    "df.plot(kind='scatter', x='Sales', y='Profit')\n",
    "\n",
    "plt.show()\n"
   ]
  },
  {
   "cell_type": "code",
   "execution_count": 2,
   "id": "2dd438bd-51cb-408b-90a6-40a11eef38d0",
   "metadata": {},
   "outputs": [
    {
     "name": "stdout",
     "output_type": "stream",
     "text": [
      "   A  B  C\n",
      "1  1  4  7\n",
      "3  2  5  8\n",
      "5  3  6  9\n"
     ]
    }
   ],
   "source": [
    "# Q2. Given a Pandas DataFrame df with columns 'A', 'B', and 'C', write a Python function to re-index the \n",
    "# DataFrame with a new index that starts from 1 and increments by 2 for each row.\n",
    "\n",
    "def reindex_df(df):\n",
    "    new_index = pd.Index(range(1, 2*len(df)+1, 2))\n",
    "    df.set_index(new_index, inplace=True)\n",
    "    return df\n",
    "\n",
    "df = pd.DataFrame({'A': [1, 2, 3], 'B': [4, 5, 6], 'C': [7, 8, 9]})\n",
    "reindexed_df = reindex_df(df)\n",
    "print(reindexed_df)\n"
   ]
  },
  {
   "cell_type": "markdown",
   "id": "dd50f500-7835-416f-9d7f-04f0441fda65",
   "metadata": {},
   "source": [
    " Q3 You have a Pandas DataFrame df with a column named 'Values'. Write a Python function that\n",
    "iterates over the DataFrame and calculates the sum of the first three values in the 'Values' column. The\n",
    "function should print the sum to the console.\n",
    "For example, if the 'Values' column of df contains the values [10, 20, 30, 40, 50], your function should\n",
    "calculate and print the sum of the first three values, which is 60."
   ]
  },
  {
   "cell_type": "code",
   "execution_count": 3,
   "id": "5470f4ec-23f9-4d80-aca3-b8980caa130e",
   "metadata": {},
   "outputs": [
    {
     "name": "stdout",
     "output_type": "stream",
     "text": [
      "Sum of the first three values in 'Values' column is: 60\n"
     ]
    }
   ],
   "source": [
    "def sum_first_three_values(df):\n",
    "    values_sum = 0\n",
    "    for i in range(3):\n",
    "        values_sum += df.loc[i, 'Values']\n",
    "    print(\"Sum of the first three values in 'Values' column is:\", values_sum)\n",
    "    \n",
    "df = pd.DataFrame({'Values': [10, 20, 30, 40, 50]})\n",
    "sum_first_three_values(df)\n"
   ]
  },
  {
   "cell_type": "markdown",
   "id": "d6c084fa-c557-41ac-aab9-6356905cbf52",
   "metadata": {},
   "source": [
    "Q4. Given a Pandas DataFrame df with a column 'Text', write a Python function to create a new column\n",
    "'Word_Count' that contains the number of words in each row of the 'Text' column.Q4. Given a Pandas DataFrame df with a column 'Text', write a Python function to create a new column\n",
    "'Word_Count' that contains the number of words in each row of the 'Text' column."
   ]
  },
  {
   "cell_type": "code",
   "execution_count": 4,
   "id": "637f6c6e-6243-4fbe-9e7d-9de121051bae",
   "metadata": {},
   "outputs": [
    {
     "name": "stdout",
     "output_type": "stream",
     "text": [
      "                    Text  Word_Count\n",
      "0            Hello world           2\n",
      "1           How are you?           3\n",
      "2  I am fine, thank you.           5\n"
     ]
    }
   ],
   "source": [
    "def add_word_count(df):\n",
    "    df['Word_Count'] = df['Text'].apply(lambda x: len(x.split()))\n",
    "    return df\n",
    "\n",
    "df = pd.DataFrame({'Text': ['Hello world', 'How are you?', 'I am fine, thank you.']})\n",
    "df = add_word_count(df)\n",
    "print(df)\n"
   ]
  },
  {
   "cell_type": "markdown",
   "id": "e53bcd82-0e95-4220-b7d4-d5aef728f4a8",
   "metadata": {},
   "source": [
    "# Q5. How are DataFrame.size() and DataFrame.shape() different?\n",
    "\n",
    "In Pandas, both DataFrame.size() and DataFrame.shape() are used to get information about the size and shape of a DataFrame, but they are different in their output and what they represent.\n",
    "\n",
    "DataFrame.size() returns the total number of elements in a DataFrame, which is equal to the product of the number of rows and columns. In other words, it returns the total number of cells in the DataFrame.\n",
    "\n",
    "DataFrame.shape() returns a tuple that contains the number of rows and columns in the DataFrame. The first element of the tuple represents the number of rows, while the second element represents the number of columns."
   ]
  },
  {
   "cell_type": "markdown",
   "id": "9d662833-da47-4082-87ed-bbc01004a6d9",
   "metadata": {},
   "source": [
    "# Q6. Which function of pandas do we use to read an excel file?\n",
    "pd.read_csv()"
   ]
  },
  {
   "cell_type": "markdown",
   "id": "c47322f6-44d7-4ce2-8ba2-b4d609f787c5",
   "metadata": {},
   "source": [
    "\n",
    "# Q7. You have a Pandas DataFrame df that contains a column named 'Email' that contains email addresses in the format 'username@domain.com'. Write a Python function that creates a new column 'Username' in df that contains only the username part of each email address."
   ]
  },
  {
   "cell_type": "markdown",
   "id": "82490b30-2bb7-473c-be03-5ea88582e5e9",
   "metadata": {},
   "source": [
    "def extract_username(email):\n",
    "    \n",
    "    return email.split('@')[0]\n",
    "\n",
    "df['Username'] = df['Email'].apply(extract_username)\n"
   ]
  },
  {
   "cell_type": "markdown",
   "id": "7ded36aa-bb05-49f2-af1a-370ac7bfd152",
   "metadata": {},
   "source": [
    "Q8. You have a Pandas DataFrame df with columns 'A', 'B', and 'C'. Write a Python function that selects\n",
    "all rows where the value in column 'A' is greater than 5 and the value in column 'B' is less than 10. The\n",
    "function should return a new DataFrame that contains only the selected rows.\n",
    "For example, if df contains the following values:\n",
    "A B C\n",
    "0 3 5 1\n",
    "1 8 2 7\n",
    "2 6 9 4\n",
    "3 2 3 5\n",
    "4 9 1 2\n",
    "\n",
    "Your function should select the following rows: A B C\n",
    "1 8 2 7\n",
    "4 9 1 2\n",
    "The function should return a new DataFrame that contains only the selected rows."
   ]
  },
  {
   "cell_type": "code",
   "execution_count": 3,
   "id": "e49e6750-72a9-4357-9df9-e8e9fca6cf73",
   "metadata": {},
   "outputs": [
    {
     "name": "stdout",
     "output_type": "stream",
     "text": [
      "   A  B  C\n",
      "1  8  2  7\n",
      "2  6  9  4\n",
      "4  9  1  2\n"
     ]
    }
   ],
   "source": [
    "\n",
    "import pandas as pd\n",
    "def select_rows(df):\n",
    "    return df[(df['A'] > 5) & (df['B'] < 10)]\n",
    "\n",
    "data = {'A': [3, 8, 6, 2, 9],\n",
    "        'B': [5, 2, 9, 3, 1],\n",
    "        'C': [1, 7, 4, 5, 2]}\n",
    "df = pd.DataFrame(data)\n",
    "\n",
    "selected_rows = select_rows(df)\n",
    "print(selected_rows)\n"
   ]
  },
  {
   "cell_type": "markdown",
   "id": "221c0c74-d0d5-4966-874c-19be556d9f6d",
   "metadata": {},
   "source": [
    "Q9. Given a Pandas DataFrame df with a column 'Values', write a Python function to calculate the mean,\n",
    "median, and standard deviation of the values in the 'Values' column."
   ]
  },
  {
   "cell_type": "code",
   "execution_count": 4,
   "id": "f89b442f-b2ed-45d5-977a-2c5b5724e7f9",
   "metadata": {},
   "outputs": [
    {
     "name": "stdout",
     "output_type": "stream",
     "text": [
      "Mean: 15.0\n",
      "Median: 15.0\n",
      "Standard deviation: 7.0710678118654755\n"
     ]
    }
   ],
   "source": [
    "import numpy as np\n",
    "\n",
    "def calculate_stats(df):\n",
    "    values = df['Values']\n",
    "    mean = np.mean(values)\n",
    "    median = np.median(values)\n",
    "    std_dev = np.std(values)\n",
    "    return mean, median, std_dev\n",
    "\n",
    "\n",
    "import pandas as pd\n",
    "\n",
    "data = {'Values': [5, 10, 15, 20, 25]}\n",
    "df = pd.DataFrame(data)\n",
    "\n",
    "mean, median, std_dev = calculate_stats(df)\n",
    "\n",
    "print(\"Mean:\", mean)\n",
    "print(\"Median:\", median)\n",
    "print(\"Standard deviation:\", std_dev)\n"
   ]
  },
  {
   "cell_type": "markdown",
   "id": "d0eb7fa4-9083-4719-a599-4c94e0f5bf3c",
   "metadata": {},
   "source": [
    "# Q10. Given a Pandas DataFrame df with a column 'Sales' and a column 'Date', write a Python function to create a new column 'MovingAverage' that contains the moving average of the sales for the past 7 days for each row in the DataFrame. The moving average should be calculated using a window of size 7 and should include the current day."
   ]
  },
  {
   "cell_type": "code",
   "execution_count": 6,
   "id": "cd21217c-0c54-4ecd-8172-bc3a949c8c22",
   "metadata": {},
   "outputs": [
    {
     "name": "stdout",
     "output_type": "stream",
     "text": [
      "        Date  Sales  MovingAverage\n",
      "0 2023-01-01     10           10.0\n",
      "1 2023-01-02     15           12.5\n",
      "2 2023-01-03     20           15.0\n",
      "3 2023-01-04     25           17.5\n",
      "4 2023-01-05     30           20.0\n",
      "5 2023-01-06     35           22.5\n",
      "6 2023-01-07     40           25.0\n",
      "7 2023-01-08     45           30.0\n",
      "8 2023-01-09     50           35.0\n",
      "9 2023-01-10     55           40.0\n"
     ]
    }
   ],
   "source": [
    "def add_moving_average(df):\n",
    "    window_size = 7\n",
    "    ma_column_name = 'MovingAverage'\n",
    "    df[ma_column_name] = df['Sales'].rolling(window_size, min_periods=1).mean()\n",
    "    return df\n",
    "\n",
    "import pandas as pd\n",
    "\n",
    "data = {'Date': pd.date_range('20230101', periods=10), 'Sales': [10, 15, 20, 25, 30, 35, 40, 45, 50, 55]}\n",
    "df = pd.DataFrame(data)\n",
    "\n",
    "df = add_moving_average(df)\n",
    "\n",
    "print(df)\n"
   ]
  },
  {
   "cell_type": "markdown",
   "id": "14e030ee-ab5d-475c-b4b2-1915eb7fd412",
   "metadata": {},
   "source": [
    "# Q11. You have a Pandas DataFrame df with a column 'Date'. Write a Python function that creates a new column 'Weekday' in the DataFrame. The 'Weekday' column should contain the weekday name (e.g. Monday, Tuesday) corresponding to each date in the 'Date' column."
   ]
  },
  {
   "cell_type": "code",
   "execution_count": 9,
   "id": "f66e6728-c01c-40a7-be3f-d8c285b4ce31",
   "metadata": {},
   "outputs": [
    {
     "name": "stdout",
     "output_type": "stream",
     "text": [
      "        Date  Sales  MovingAverage    Weekday\n",
      "0 2023-01-01     10           10.0     Sunday\n",
      "1 2023-01-02     15           12.5     Monday\n",
      "2 2023-01-03     20           15.0    Tuesday\n",
      "3 2023-01-04     25           17.5  Wednesday\n",
      "4 2023-01-05     30           20.0   Thursday\n",
      "5 2023-01-06     35           22.5     Friday\n",
      "6 2023-01-07     40           25.0   Saturday\n",
      "7 2023-01-08     45           30.0     Sunday\n",
      "8 2023-01-09     50           35.0     Monday\n",
      "9 2023-01-10     55           40.0    Tuesday\n"
     ]
    }
   ],
   "source": [
    "import datetime\n",
    "\n",
    "def add_weekday_column(df):\n",
    "    df['Weekday'] = df['Date'].apply(lambda x: datetime.datetime.strftime(x, '%A'))\n",
    "    return df\n",
    "\n",
    "df = add_weekday_column(df)\n",
    "\n",
    "print(df)"
   ]
  },
  {
   "cell_type": "markdown",
   "id": "feae90f5-a132-4e1f-92e9-54f12d06eaea",
   "metadata": {},
   "source": [
    "# Q12. Given a Pandas DataFrame df with a column 'Date' that contains timestamps, write a Python function to select all rows where the date is between '2023-01-01' and '2023-01-31'."
   ]
  },
  {
   "cell_type": "code",
   "execution_count": 11,
   "id": "d705c4bc-107d-4dfb-85a1-d61000404faa",
   "metadata": {},
   "outputs": [
    {
     "name": "stdout",
     "output_type": "stream",
     "text": [
      "        Date  Sales  MovingAverage    Weekday\n",
      "0 2023-01-01     10           10.0     Sunday\n",
      "1 2023-01-02     15           12.5     Monday\n",
      "2 2023-01-03     20           15.0    Tuesday\n",
      "3 2023-01-04     25           17.5  Wednesday\n",
      "4 2023-01-05     30           20.0   Thursday\n",
      "5 2023-01-06     35           22.5     Friday\n",
      "6 2023-01-07     40           25.0   Saturday\n",
      "7 2023-01-08     45           30.0     Sunday\n",
      "8 2023-01-09     50           35.0     Monday\n",
      "9 2023-01-10     55           40.0    Tuesday\n"
     ]
    }
   ],
   "source": [
    "def select_january_dates(df):\n",
    "    start_date = pd.Timestamp('2023-01-01')\n",
    "    end_date = pd.Timestamp('2023-01-31')\n",
    "    mask = (df['Date'] >= start_date) & (df['Date'] <= end_date)\n",
    "    return df.loc[mask]\n",
    "\n",
    "df = select_january_dates(df)\n",
    "\n",
    "print(df)"
   ]
  },
  {
   "cell_type": "code",
   "execution_count": null,
   "id": "817f5835-b3e3-4076-9eca-6cf7d8cc3613",
   "metadata": {},
   "outputs": [],
   "source": []
  }
 ],
 "metadata": {
  "kernelspec": {
   "display_name": "Python 3 (ipykernel)",
   "language": "python",
   "name": "python3"
  },
  "language_info": {
   "codemirror_mode": {
    "name": "ipython",
    "version": 3
   },
   "file_extension": ".py",
   "mimetype": "text/x-python",
   "name": "python",
   "nbconvert_exporter": "python",
   "pygments_lexer": "ipython3",
   "version": "3.10.8"
  }
 },
 "nbformat": 4,
 "nbformat_minor": 5
}

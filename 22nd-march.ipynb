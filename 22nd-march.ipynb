{
 "cells": [
  {
   "cell_type": "markdown",
   "metadata": {},
   "source": [
    "Q1. **Pearson Correlation Coefficient for Study Time and Exam Scores:**\n",
    "   - To calculate the Pearson correlation coefficient (r), you need to compute the covariance between study time and exam scores, and then divide it by the product of their standard deviations.\n",
    "   - Interpretation: If the correlation coefficient is positive, it indicates a positive linear relationship, meaning as study time increases, exam scores tend to increase. If it's negative, it implies a negative relationship.\n",
    "   \n",
    "Q2. **Spearman's Rank Correlation for Sleep and Job Satisfaction:**\n",
    "   - Spearman's rank correlation involves ranking the data and then calculating the Pearson correlation coefficient for the ranks.\n",
    "   - Interpretation: A positive Spearman's rank correlation suggests that as one variable increases, the other tends to increase as well, albeit not necessarily in a strictly linear fashion. Similarly, a negative Spearman's rank correlation indicates an inverse relationship.\n",
    "\n",
    "Q3. **Comparing Pearson and Spearman Correlations for Exercise and BMI:**\n",
    "   - Pearson correlation measures the strength and direction of a linear relationship, while Spearman correlation assesses the monotonic relationship, which can be nonlinear.\n",
    "   - Compare the magnitude and sign of the two correlation coefficients. If they are similar, it suggests a linear relationship between exercise and BMI. If Spearman's rank correlation is higher, it implies a stronger monotonic relationship.\n",
    "   \n",
    "Q4. **Pearson Correlation Coefficient for TV Watching and Physical Activity:**\n",
    "   - Compute the Pearson correlation coefficient between the number of hours individuals spend watching television per day and their level of physical activity.\n",
    "   - Interpretation: A positive correlation would indicate that as TV watching increases, physical activity tends to decrease, and vice versa.\n",
    "\n",
    "Q5. **Relationship between Age and Soft Drink Preference:**\n",
    "   - It seems there's missing data for soft drink preference corresponding to each age. To analyze the relationship between age and soft drink preference, you might need to consider additional data or conduct a different analysis, such as frequency counts for each brand of soft drink across different age groups.\n",
    "\n",
    "Q6. **Pearson Correlation Coefficient for Sales Calls and Sales Made:**\n",
    "   - Calculate the Pearson correlation coefficient between the number of sales calls made per day and the number of sales made per week.\n",
    "   - Interpretation: A positive correlation suggests that as the number of sales calls increases, the number of sales made tends to increase, and vice versa."
   ]
  },
  {
   "cell_type": "markdown",
   "metadata": {},
   "source": []
  }
 ],
 "metadata": {
  "language_info": {
   "name": "python"
  },
  "orig_nbformat": 4
 },
 "nbformat": 4,
 "nbformat_minor": 2
}

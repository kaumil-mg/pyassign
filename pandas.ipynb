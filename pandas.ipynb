{
 "cells": [
  {
   "cell_type": "code",
   "execution_count": 2,
   "id": "4d9d90ec-5457-4191-8424-fae2d906afb0",
   "metadata": {},
   "outputs": [
    {
     "name": "stdout",
     "output_type": "stream",
     "text": [
      "0     4\n",
      "1     8\n",
      "2    15\n",
      "3    16\n",
      "4    23\n",
      "5    42\n",
      "dtype: int64\n"
     ]
    }
   ],
   "source": [
    "#Q1. Create a Pandas Series that contains the following data: 4, 8, 15, 16, 23, and 42. Then, print the series.\n",
    "\n",
    "import pandas as pd\n",
    "\n",
    "data = [4, 8, 15, 16, 23, 42]\n",
    "\n",
    "series = pd.Series(data)\n",
    "\n",
    "print(series)\n"
   ]
  },
  {
   "cell_type": "code",
   "execution_count": 3,
   "id": "cf1cef5c-06d2-4a07-b9d6-f03c03f8aba7",
   "metadata": {},
   "outputs": [
    {
     "name": "stdout",
     "output_type": "stream",
     "text": [
      "0     1\n",
      "1     2\n",
      "2     3\n",
      "3     4\n",
      "4     5\n",
      "5     6\n",
      "6     7\n",
      "7     8\n",
      "8     9\n",
      "9    10\n",
      "dtype: int64\n"
     ]
    }
   ],
   "source": [
    "#Q2. Create a variable of list type containing 10 elements in it, and apply pandas.Series function on the variable print it.\n",
    "\n",
    "my_list = [1, 2, 3, 4, 5, 6, 7, 8, 9, 10]\n",
    "my_series = pd.Series(my_list)\n",
    "print(my_series)\n"
   ]
  },
  {
   "cell_type": "code",
   "execution_count": 4,
   "id": "a79a78d7-8f50-478f-8721-74095044180a",
   "metadata": {},
   "outputs": [
    {
     "name": "stdout",
     "output_type": "stream",
     "text": [
      "      name  age  gender\n",
      "0    Alice   25  female\n",
      "1      Bob   30    male\n",
      "2  Charlie   35    male\n",
      "0    25\n",
      "1    30\n",
      "2    35\n",
      "Name: age, dtype: int64\n"
     ]
    }
   ],
   "source": [
    "# Q3\n",
    "\n",
    "import pandas as pd\n",
    "\n",
    "# create a dictionary with two lists\n",
    "data = {'name': ['Alice', 'Bob', 'Charlie'],\n",
    "        'age': [25, 30, 35],\n",
    "        'gender': ['female', 'male', 'male']}\n",
    "\n",
    "# create a DataFrame from the dictionary\n",
    "df = pd.DataFrame(data)\n",
    "\n",
    "# create a Series from the 'age' column of the DataFrame\n",
    "age_series = df['age']\n",
    "\n",
    "# print the DataFrame and the Series\n",
    "print(df)\n",
    "print(age_series)\n"
   ]
  },
  {
   "cell_type": "markdown",
   "id": "0a0017de-23bf-4d4e-afc3-65559909b778",
   "metadata": {},
   "source": [
    "# Q4. What is ‘DataFrame’ in pandas and how is it different from pandas.series? Explain with an example.\n",
    "\n",
    "In pandas, a DataFrame is a two-dimensional labeled data structure with columns of potentially different types. It is similar to a table in a relational database or a spreadsheet in which each column can have a different data type. A DataFrame can be thought of as a collection of pandas series where each column represents a pandas series.\n",
    "\n",
    "On the other hand, a pandas Series is a one-dimensional labeled array that can hold data of any type (integer, float, string, etc.). It is similar to a list or an array in Python, but with added functionality such as the ability to perform vectorized operations and handle missing data.\n",
    "\n",
    "The main differences between a DataFrame and a Series are:\n",
    "\n",
    "A Series is a one-dimensional object, while a DataFrame is a two-dimensional object.\n",
    "A DataFrame has columns, which can have different data types, while a Series has only one column of data.\n",
    "A DataFrame can be thought of as a collection of Series, while a Series is a single column of data."
   ]
  },
  {
   "cell_type": "markdown",
   "id": "f0de62b9-8c71-4990-ac91-4929c3cfef62",
   "metadata": {},
   "source": [
    "# Q5. What are some common functions you can use to manipulate data in a Pandas DataFrame? Can you give an example of when you might use one of these functions?\n",
    "\n",
    "Pandas provides a variety of functions that can be used to manipulate data in a DataFrame. Some of the most commonly used functions are:\n",
    "\n",
    "- head(): This function returns the first n rows of the DataFrame. This is useful when you want to quickly inspect the data.\n",
    "\n",
    "- tail(): This function returns the last n rows of the DataFrame. This is useful when you want to quickly inspect the data at the end of the DataFrame.\n",
    "\n",
    "- describe(): This function provides a summary of statistics for each column of the DataFrame, such as count, mean, standard deviation, minimum, maximum, and quartiles. This is useful when you want to get a quick overview of the data.\n",
    "\n",
    "- info(): This function provides a summary of the DataFrame, including the data types of each column and the number of non-null values. This is useful when you want to inspect the data types of the columns.\n",
    "\n",
    "- drop(): This function removes specified rows or columns from the DataFrame. This is useful when you want to remove unnecessary data.\n",
    "\n",
    "- groupby(): This function groups the DataFrame by one or more columns and applies a function to each group. This is useful when you want to aggregate data by some criteria.\n",
    "\n",
    "- pivot_table(): This function creates a spreadsheet-style pivot table based on the DataFrame. This is useful when you want to summarize data in a tabular format.\n",
    "\n",
    "- fillna(): This function fills in missing values in the DataFrame with specified values. This is useful when you want to handle missing data.\n",
    "\n",
    "- merge(): This function combines two DataFrames based on a common column. This is useful when you want to combine data from different sources."
   ]
  },
  {
   "cell_type": "markdown",
   "id": "9c1423e4-82f3-4498-a93c-2f0c51393dff",
   "metadata": {},
   "source": [
    "# Q6. Which of the following is mutable in nature Series, DataFrame, Panel?\n",
    "\n",
    "In pandas, both Series and DataFrame are mutable in nature, which means that their values can be modified after creation. However, Panel is not mutable in nature, as it is considered an experimental data structure and has been deprecated since version 1.0.\n",
    "\n"
   ]
  },
  {
   "cell_type": "code",
   "execution_count": null,
   "id": "e95c3ab4-ac2a-4bb6-ab01-6752a8d43927",
   "metadata": {},
   "outputs": [],
   "source": [
    "# Q7. Create a DataFrame using multiple Series. Explain with an example.\n",
    "\n"
   ]
  }
 ],
 "metadata": {
  "kernelspec": {
   "display_name": "Python 3 (ipykernel)",
   "language": "python",
   "name": "python3"
  },
  "language_info": {
   "codemirror_mode": {
    "name": "ipython",
    "version": 3
   },
   "file_extension": ".py",
   "mimetype": "text/x-python",
   "name": "python",
   "nbconvert_exporter": "python",
   "pygments_lexer": "ipython3",
   "version": "3.10.8"
  }
 },
 "nbformat": 4,
 "nbformat_minor": 5
}

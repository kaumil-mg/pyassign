{
 "cells": [
  {
   "cell_type": "markdown",
   "id": "9e865635-34b9-4a1d-926e-6489c9728c5a",
   "metadata": {},
   "source": [
    "# OOPS Concepts\n",
    "\n",
    "Q1. Which function is used to open a file? What are the different modes of opening a file? Explain each mode\n",
    "of file opening.\n",
    "\n",
    "Q2. Why close() function is used? Why is it important to close a file?\n",
    "\n",
    "Q3. Write a python program to create a text file. Write ‘I want to become a Data Scientist’ in that file. Then\n",
    "close the file. Open this file and read the content of the file.\n",
    "\n",
    "Q4. Explain the following with python code: read(), readline() and readlines().\n",
    "\n",
    "Q5. Explain why with statement is used with open(). What is the advantage of using with statement and\n",
    "open() together?\n",
    "\n",
    "Q6. Explain the write() and writelines() functions. Give a suitable example."
   ]
  },
  {
   "cell_type": "markdown",
   "id": "8d83b52a-edf8-4fc6-a97e-d31cd2f4b439",
   "metadata": {},
   "source": [
    "# Q1. Which function is used to open a file? What are the different modes of opening a file? Explain each mode of file opening.\n",
    "\n",
    "In Python, the open() function is used to open a file.\n",
    "\n",
    "There are different modes in which a file can be opened:\n",
    "\n",
    "Read mode ('r'): This mode opens a file for reading, and the file pointer is placed at the beginning of the file. If the file does not exist, it will raise a FileNotFoundError.\n",
    "\n",
    "Write mode ('w'): This mode opens a file for writing. If the file already exists, its contents are truncated. If the file does not exist, it will create a new file.\n",
    "\n",
    "Append mode ('a'): This mode opens a file for writing, but it does not truncate the file. The file pointer is placed at the end of the file. If the file does not exist, it will create a new file.\n",
    "\n",
    "Read and Write mode ('r+'): This mode opens a file for both reading and writing. The file pointer is placed at the beginning of the file. If the file does not exist, it will raise a FileNotFoundError.\n",
    "\n",
    "Write and Read mode ('w+'): This mode opens a file for both writing and reading. If the file already exists, its contents are truncated. If the file does not exist, it will create a new file.\n",
    "\n",
    "Append and Read mode ('a+'): This mode opens a file for both writing and reading, but it does not truncate the file. The file pointer is placed at the end of the file. If the file does not exist, it will create a new file."
   ]
  },
  {
   "cell_type": "markdown",
   "id": "7439e6d2-34e6-4892-b361-45d5bd001359",
   "metadata": {},
   "source": [
    "# Q2. Why close() function is used? Why is it important to close a file?\n",
    "\n",
    "The close() function in Python is used to close an opened file object. It's important to close a file after reading or writing to it, as it ensures that any changes made to the file are properly saved and any system resources used by the file are freed up. If you do not close the file, any changes made to the file may not be saved, and the file may become corrupt or unavailable for other operations.\n",
    "\n",
    "Moreover, not closing a file can also lead to a resource leak, where system resources used by the file are not freed up even after the program terminates. This can cause problems on systems with limited resources, as other programs may not have access to those resources due to them being used by an unclosed file.\n",
    "\n",
    "In summary, it's good practice to always close a file after reading or writing to it, using the close() function, to ensure proper saving of changes and freeing up of system resources."
   ]
  },
  {
   "cell_type": "markdown",
   "id": "10ffd379-e747-4a94-89f9-2859be57ca60",
   "metadata": {},
   "source": [
    "# Q3. Write a python program to create a text file. Write ‘I want to become a Data Scientist’ in that file. Then close the file. Open this file and read the content of the file.\n"
   ]
  },
  {
   "cell_type": "code",
   "execution_count": 1,
   "id": "e37ce0b1-d5bc-4f03-9886-e5f1ba768c15",
   "metadata": {},
   "outputs": [
    {
     "name": "stdout",
     "output_type": "stream",
     "text": [
      "I want to become a Data Scientist\n"
     ]
    }
   ],
   "source": [
    "# Opening a file in write mode\n",
    "file = open(\"my_file.txt\", \"w\")\n",
    "\n",
    "# Writing content to the file\n",
    "file.write(\"I want to become a Data Scientist\")\n",
    "\n",
    "# Closing the file\n",
    "file.close()\n",
    "\n",
    "# Opening the file in read mode\n",
    "file = open(\"my_file.txt\", \"r\")\n",
    "\n",
    "# Reading the content of the file\n",
    "content = file.read()\n",
    "\n",
    "# Closing the file\n",
    "file.close()\n",
    "\n",
    "# Printing the content of the file\n",
    "print(content)\n"
   ]
  },
  {
   "cell_type": "markdown",
   "id": "0dbceab8-d56d-4ed1-8a32-786571c38e9d",
   "metadata": {},
   "source": [
    "# Q4. Explain the following with python code: read(), readline() and readlines()."
   ]
  },
  {
   "cell_type": "code",
   "execution_count": 3,
   "id": "1260c72f-5e47-4330-9c50-58e2c9fff894",
   "metadata": {},
   "outputs": [
    {
     "name": "stdout",
     "output_type": "stream",
     "text": [
      "hey bru what is up \n",
      "a quick brown fox jumps over the lazy dog\n",
      "i want to become a data scientist\n",
      "\n",
      "\n",
      "[]\n"
     ]
    }
   ],
   "source": [
    "# Open file\n",
    "file = open('example.txt', 'r')\n",
    "\n",
    "# Read the entire file\n",
    "content = file.read()\n",
    "\n",
    "# Print the content\n",
    "print(content)\n",
    "\n",
    "# Read a single line\n",
    "line = file.readline()\n",
    "\n",
    "# Print the line\n",
    "print(line)\n",
    "\n",
    "# Read the next line\n",
    "line = file.readline()\n",
    "\n",
    "# Print the line\n",
    "print(line)\n",
    "\n",
    "# Read all the lines\n",
    "lines = file.readlines()\n",
    "\n",
    "# Print the lines\n",
    "print(lines)\n",
    "\n",
    "# Close the file\n",
    "file.close()\n"
   ]
  },
  {
   "cell_type": "markdown",
   "id": "d6d67973-2619-4d3b-b562-a06fa10eda2c",
   "metadata": {},
   "source": [
    "# Q5. Explain why with statement is used with open(). What is the advantage of using with statement and open() together?\n",
    "\n",
    "The with statement is used with open() function in Python to open and automatically close a file in a block. It provides a way to handle file I/O operations safely by automatically closing the file after the block of code is executed, even if an exception or error occurs in the block.\n",
    "\n",
    "The advantage of using with statement with open() is that it ensures proper handling of the file by automatically closing the file when the block is exited. This eliminates the need for explicitly closing the file, reducing the chances of errors and memory leaks."
   ]
  },
  {
   "cell_type": "code",
   "execution_count": 4,
   "id": "c1ef8788-a57a-43e2-8183-994c61322f00",
   "metadata": {},
   "outputs": [
    {
     "name": "stdout",
     "output_type": "stream",
     "text": [
      "hey bru what is up \n",
      "a quick brown fox jumps over the lazy dog\n",
      "i want to become a data scientist\n"
     ]
    }
   ],
   "source": [
    "with open('example.txt', 'r') as f:\n",
    "    content = f.read()\n",
    "    print(content)\n"
   ]
  },
  {
   "cell_type": "markdown",
   "id": "4fc02b95-fc29-4dd4-ac07-12fbeb40517b",
   "metadata": {},
   "source": [
    "# Q6. Explain the write() and writelines() functions. Give a suitable example.\n",
    "The write() and writelines() functions are used to write data into a file.\n",
    "\n",
    "The write() function is used to write a single string to the file. If the file already contains data, then the write() function will overwrite the existing data."
   ]
  },
  {
   "cell_type": "code",
   "execution_count": 5,
   "id": "837beecd-f48f-405d-b4ea-e93773fe0b00",
   "metadata": {},
   "outputs": [],
   "source": [
    "# Opening the file in write mode\n",
    "file = open(\"example.txt\", \"w\")\n",
    "\n",
    "# Writing a string to the file\n",
    "file.write(\"Hello, World!\\n\")\n",
    "\n",
    "# Closing the file\n",
    "file.close()\n"
   ]
  },
  {
   "cell_type": "markdown",
   "id": "12ea1e26-594e-4ed2-b782-9fc1ad5d511a",
   "metadata": {},
   "source": [
    "The writelines() function is used to write multiple strings to a file. It takes a list of strings as an argument and writes each string in the list to the file. If the file already contains data, then the writelines() function will append the new data to the existing data."
   ]
  },
  {
   "cell_type": "code",
   "execution_count": null,
   "id": "2c88b855-3633-4d73-a081-bd59b04e21ad",
   "metadata": {},
   "outputs": [],
   "source": [
    "# Opening the file in write mode\n",
    "file = open(\"example.txt\", \"w\")\n",
    "\n",
    "# Writing multiple strings to the file\n",
    "lines = [\"Line 1\\n\", \"Line 2\\n\", \"Line 3\\n\"]\n",
    "file.writelines(lines)\n",
    "\n",
    "# Closing the file\n",
    "file.close()\n"
   ]
  }
 ],
 "metadata": {
  "kernelspec": {
   "display_name": "Python 3 (ipykernel)",
   "language": "python",
   "name": "python3"
  },
  "language_info": {
   "codemirror_mode": {
    "name": "ipython",
    "version": 3
   },
   "file_extension": ".py",
   "mimetype": "text/x-python",
   "name": "python",
   "nbconvert_exporter": "python",
   "pygments_lexer": "ipython3",
   "version": "3.10.8"
  }
 },
 "nbformat": 4,
 "nbformat_minor": 5
}

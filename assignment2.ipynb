{
 "cells": [
  {
   "cell_type": "markdown",
   "id": "3069cba9-40db-4cf6-8773-a1ac9df2871a",
   "metadata": {
    "tags": []
   },
   "source": [
    "# Q1"
   ]
  },
  {
   "cell_type": "code",
   "execution_count": 1,
   "id": "35108f57-16f4-4893-914a-51677c2e1e50",
   "metadata": {},
   "outputs": [
    {
     "name": "stdin",
     "output_type": "stream",
     "text": [
      "Enter your percentage:  95\n"
     ]
    },
    {
     "name": "stdout",
     "output_type": "stream",
     "text": [
      "your grade is A\n"
     ]
    }
   ],
   "source": [
    "percentage = float(input(\"Enter your percentage: \"))\n",
    "\n",
    "if percentage > 90:\n",
    "    print(\"your grade is A\")\n",
    "elif percentage > 80 and percentage <= 90:\n",
    "    print(\"your grade is B\")\n",
    "elif percentage >= 60 and percentage <= 80:\n",
    "    print(\"your grade is C\")\n",
    "else:\n",
    "    print(\"your grade is D\")\n"
   ]
  },
  {
   "cell_type": "markdown",
   "id": "a6f68614-15ff-434c-a118-26a2369abfd2",
   "metadata": {},
   "source": [
    "# Q2"
   ]
  },
  {
   "cell_type": "code",
   "execution_count": 2,
   "id": "64d93bc6-6032-4e72-825c-cd955fa4d6fc",
   "metadata": {},
   "outputs": [
    {
     "name": "stdin",
     "output_type": "stream",
     "text": [
      "Enter the cost price of the bike:  850000\n"
     ]
    },
    {
     "name": "stdout",
     "output_type": "stream",
     "text": [
      "The road tax to be paid is: 127500.0\n",
      "And On-road Price is: 977500.0\n"
     ]
    }
   ],
   "source": [
    "cost_price = float(input(\"Enter the cost price of the bike: \"))\n",
    "\n",
    "if cost_price > 100000:\n",
    "    road_tax = 0.15 * cost_price\n",
    "elif cost_price > 50000 and cost_price <= 100000:\n",
    "    road_tax = 0.10 * cost_price\n",
    "else:\n",
    "    road_tax = 0.05 * cost_price\n",
    "\n",
    "print(\"The road tax to be paid is:\", road_tax)\n",
    "print(\"And On-road Price is:\", road_tax+cost_price)\n"
   ]
  },
  {
   "cell_type": "markdown",
   "id": "56d9a9fa-d297-4927-910d-a9a146a5c6f4",
   "metadata": {},
   "source": [
    "# Q3"
   ]
  },
  {
   "cell_type": "code",
   "execution_count": 3,
   "id": "372625f5-f71c-48e4-9edb-199d943a74e2",
   "metadata": {},
   "outputs": [
    {
     "name": "stdin",
     "output_type": "stream",
     "text": [
      "Enter the cost price of the bike:  Jaipur\n"
     ]
    },
    {
     "name": "stdout",
     "output_type": "stream",
     "text": [
      "Monument is Jal Mahal\n"
     ]
    }
   ],
   "source": [
    "city = input(\"Enter the cost price of the bike: \")\n",
    "\n",
    "if city == 'Delhi':\n",
    "    print (\"Monument is Red Fort\")\n",
    "\n",
    "elif city == 'Agra':\n",
    "    print (\"Monument is Taj Mahal\")\n",
    "\n",
    "elif city == 'Jaipur':\n",
    "    print (\"Monument is Jal Mahal\")\n",
    "else:\n",
    "    print(\"enter valid city \")\n"
   ]
  },
  {
   "cell_type": "markdown",
   "id": "2b3f6cef-0e20-4d9f-b5ae-01c79ca2e818",
   "metadata": {},
   "source": [
    "# Q4"
   ]
  },
  {
   "cell_type": "code",
   "execution_count": 4,
   "id": "658f2428-b549-41d9-b24d-01046a1b548a",
   "metadata": {},
   "outputs": [
    {
     "name": "stdin",
     "output_type": "stream",
     "text": [
      "Enter a number:  369\n"
     ]
    },
    {
     "name": "stdout",
     "output_type": "stream",
     "text": [
      "The number can be divided by 3 4 times before it is less than or equal to 10.\n"
     ]
    }
   ],
   "source": [
    "num = int(input(\"Enter a number: \"))\n",
    "\n",
    "count = 0\n",
    "while num > 10:\n",
    "    num = num / 3\n",
    "    count += 1\n",
    "\n",
    "print(\"The number can be divided by 3\",count, \"times before it is less than or equal to 10.\")\n"
   ]
  },
  {
   "cell_type": "markdown",
   "id": "b650fa4a-cb6b-402c-91e1-d7080b5bd0a5",
   "metadata": {},
   "source": [
    "# Q5 "
   ]
  },
  {
   "cell_type": "markdown",
   "id": "47d59ac4-c8db-43d4-bf45-d8bd07e7c017",
   "metadata": {},
   "source": [
    "In Python, a while loop is used to repeatedly execute a block of code as long as a certain condition is met. It is a type of control flow statement that allows you to repeatedly execute a block of code as long as a condition is true. "
   ]
  },
  {
   "cell_type": "code",
   "execution_count": 5,
   "id": "a26bc619-f8cd-43b4-bb24-205298e46126",
   "metadata": {},
   "outputs": [
    {
     "name": "stdout",
     "output_type": "stream",
     "text": [
      "1\n",
      "2\n",
      "3\n",
      "4\n",
      "5\n",
      "6\n",
      "7\n",
      "8\n",
      "9\n",
      "10\n"
     ]
    }
   ],
   "source": [
    "count = 1\n",
    "\n",
    "while count <= 10:\n",
    "    print(count)\n",
    "    count += 1\n"
   ]
  },
  {
   "cell_type": "markdown",
   "id": "3e3267c0-ac33-435e-a96c-35a94fe6769d",
   "metadata": {},
   "source": [
    "# Q6"
   ]
  },
  {
   "cell_type": "code",
   "execution_count": 6,
   "id": "eaba0ab7-37da-4311-a039-183e633075b1",
   "metadata": {},
   "outputs": [
    {
     "name": "stdout",
     "output_type": "stream",
     "text": [
      "*\n",
      "**\n",
      "***\n",
      "****\n",
      "*****\n"
     ]
    }
   ],
   "source": [
    "# Triangle pattern\n",
    "\n",
    "rows = 5\n",
    "for i in range(1, rows+1):\n",
    "    for j in range(1, i+1):\n",
    "        print(\"*\", end=\"\")\n",
    "    print(\"\")\n"
   ]
  },
  {
   "cell_type": "code",
   "execution_count": 7,
   "id": "b6501c99-f63f-456a-b9e8-86864acfe999",
   "metadata": {},
   "outputs": [
    {
     "name": "stdout",
     "output_type": "stream",
     "text": [
      "    *\n",
      "   ***\n",
      "  *****\n",
      " *******\n",
      "*********\n",
      " *******\n",
      "  *****\n",
      "   ***\n",
      "    *\n"
     ]
    }
   ],
   "source": [
    "# Diamonf Pattern\n",
    "\n",
    "rows = 5\n",
    "for i in range(1, rows+1):\n",
    "    for j in range(rows-i):\n",
    "        print(end=\" \")\n",
    "    for j in range(1, i*2):\n",
    "        print(\"*\", end=\"\")\n",
    "    print(\"\")\n",
    "for i in range(rows-1, 0, -1):\n",
    "    for j in range(rows-i):\n",
    "        print(end=\" \")\n",
    "    for j in range(1, i*2):\n",
    "        print(\"*\", end=\"\")\n",
    "    print(\"\")\n"
   ]
  },
  {
   "cell_type": "code",
   "execution_count": 8,
   "id": "db6f687b-0b2d-4cc1-8d42-bdc5332f996a",
   "metadata": {},
   "outputs": [
    {
     "name": "stdout",
     "output_type": "stream",
     "text": [
      "    *\n",
      "   ***\n",
      "  *****\n",
      " *******\n",
      "*********\n"
     ]
    }
   ],
   "source": [
    "# Pyramid pattern\n",
    "rows = 5\n",
    "for i in range(1, rows+1):\n",
    "    for j in range(rows-i):\n",
    "        print(end=\" \")\n",
    "    for j in range(1, i*2):\n",
    "        print(\"*\", end=\"\")\n",
    "    print(\"\")\n"
   ]
  },
  {
   "cell_type": "code",
   "execution_count": null,
   "id": "14f96382-02b8-4a91-99eb-d078f559f12a",
   "metadata": {},
   "outputs": [],
   "source": []
  }
 ],
 "metadata": {
  "kernelspec": {
   "display_name": "Python 3 (ipykernel)",
   "language": "python",
   "name": "python3"
  },
  "language_info": {
   "codemirror_mode": {
    "name": "ipython",
    "version": 3
   },
   "file_extension": ".py",
   "mimetype": "text/x-python",
   "name": "python",
   "nbconvert_exporter": "python",
   "pygments_lexer": "ipython3",
   "version": "3.10.8"
  }
 },
 "nbformat": 4,
 "nbformat_minor": 5
}

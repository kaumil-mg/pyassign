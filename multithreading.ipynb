{
 "cells": [
  {
   "cell_type": "markdown",
   "id": "9ec128fd-9511-4a6c-91b5-60cfd79bfcf2",
   "metadata": {},
   "source": [
    "Q1. What is multithreading in python? Why is it used? Name the module used to handle threads in python\n",
    "\n",
    "Q2. Why threading module used? Write the use of the following functions\n",
    "\n",
    "-> activeCount()\n",
    "-> currentThread()\n",
    "-> enumerate()\n",
    "\n",
    "Q3. Explain the following functions\n",
    "\n",
    "-> run()\n",
    "-> start()\n",
    "-> join()\n",
    "-> isAlive()\n",
    "\n",
    "Q4. Write a python program to create two threads. Thread one must print the list of squares and thread two must print the list of cubes\n",
    "\n",
    "Q5. State advantages and disadvantages of multithreading\n",
    "\n",
    "Q6. Explain deadlocks and race conditions."
   ]
  },
  {
   "cell_type": "markdown",
   "id": "cde35ec8-e044-4a0d-b007-671cae4cc56f",
   "metadata": {},
   "source": [
    "1. What is multithreading in python? Why is it used? Name the module used to handle threads in python\n",
    "\n",
    "Multithreading in Python refers to the concurrent execution of two or more parts of a program at the same time. Each of these parts is called a thread, and each thread runs independently of the others. In Python, multithreading is used to achieve parallelism, where a program can execute multiple threads simultaneously and achieve better performance.\n",
    "\n",
    "Multithreading is useful in scenarios where a program needs to perform multiple tasks at the same time. For example, a program that needs to download multiple files from the internet can use multithreading to download each file in a separate thread, thereby speeding up the download process.\n",
    "\n",
    "Python provides a built-in module called \"threading\" to handle threads. The \"threading\" module allows developers to create and manage threads in their Python programs. The module provides classes and functions for creating, starting, and stopping threads, as well as for synchronizing the execution of threads. The \"threading\" module also provides tools for managing shared resources between threads, such as locks and semaphores."
   ]
  },
  {
   "cell_type": "markdown",
   "id": "b9f40ac7-423a-44a8-9e47-5d7b6750af27",
   "metadata": {},
   "source": [
    "2. Why threading module used? Write the use of the following functions\n",
    "\n",
    "-> activeCount()\n",
    "-> currentThread()\n",
    "-> enumerate()\n",
    "\n",
    "The threading module is used in Python to create, manage, and synchronize threads in a program. The module provides a set of classes and functions for working with threads, including creating and starting threads, synchronizing threads, and managing shared resources.\n",
    "\n",
    "Here's a brief description of the following three functions of the threading module:\n",
    "\n",
    "activeCount(): This function returns the number of thread objects that are currently active in the current Python interpreter. An active thread is a thread that has been started and has not yet finished its execution. This function can be useful for debugging and monitoring purposes, as it allows you to see how many threads are currently running in your program.\n",
    "\n",
    "currentThread(): This function returns a reference to the thread object representing the current thread of execution. This function is useful when you need to access the properties or methods of the current thread object, such as the thread name, thread ID, or thread status.\n",
    "\n",
    "enumerate(): This function returns a list of all thread objects that are currently active in the current Python interpreter. Each item in the list is a thread object, and the list includes both daemon and non-daemon threads. This function can be useful for debugging and monitoring purposes, as it allows you to see all the threads that are currently running in your program."
   ]
  },
  {
   "cell_type": "markdown",
   "id": "2699e62f-cb1c-4408-9e01-17fd928bac70",
   "metadata": {},
   "source": [
    "3. Explain the following functions\n",
    "\n",
    "-> run()\n",
    "-> start()\n",
    "-> join()\n",
    "-> isAlive()\n",
    "\n",
    "Here's an explanation of the following four functions related to threads in Python:\n",
    "\n",
    "run(): The run() function is the entry point for a thread's activity. When a new thread is created, it needs a target function to run. The run() function is the default target function for a thread object. It is called when the start() method is called on the thread object. The run() function contains the code that will be executed by the new thread.\n",
    "\n",
    "start(): The start() method is used to start a new thread of execution. When the start() method is called, a new thread is created, and the run() method of the thread is called. The new thread runs concurrently with the main thread of the program. If the start() method is called more than once on the same thread object, a RuntimeError will be raised.\n",
    "\n",
    "join(): The join() method is used to wait for a thread to complete its execution. When the join() method is called on a thread object, the calling thread will block until the thread being joined has finished executing. This is useful when you need to ensure that a thread has completed its task before continuing with the rest of the program.\n",
    "\n",
    "isAlive(): The isAlive() method is used to check if a thread is still executing. When called on a thread object, it returns True if the thread is currently executing, and False otherwise. This can be useful when you need to check if a thread has finished executing before calling the join() method on it."
   ]
  },
  {
   "cell_type": "markdown",
   "id": "fe22b7d5-6db5-4d44-8b38-0b85b602f36e",
   "metadata": {},
   "source": [
    "Q4. Write a python program to create two threads. Thread one must print the list of squares and thread two must print the list of cubes\n"
   ]
  },
  {
   "cell_type": "code",
   "execution_count": 1,
   "id": "d276c2fc-01d9-4dfc-917a-07258d770ef7",
   "metadata": {},
   "outputs": [
    {
     "name": "stdout",
     "output_type": "stream",
     "text": [
      "List of squares: [1, 4, 9, 16, 25, 36, 49, 64, 81, 100]\n",
      "List of cubes: [1, 8, 27, 64, 125, 216, 343, 512, 729, 1000]\n",
      "Done!\n"
     ]
    }
   ],
   "source": [
    "import threading\n",
    "\n",
    "def print_squares():\n",
    "    squares = [i*i for i in range(1, 11)]\n",
    "    print(\"List of squares:\", squares)\n",
    "\n",
    "def print_cubes():\n",
    "    cubes = [i*i*i for i in range(1, 11)]\n",
    "    print(\"List of cubes:\", cubes)\n",
    "\n",
    "if __name__ == \"__main__\":\n",
    "    # create the first thread to print squares\n",
    "    t1 = threading.Thread(target=print_squares)\n",
    "\n",
    "    # create the second thread to print cubes\n",
    "    t2 = threading.Thread(target=print_cubes)\n",
    "\n",
    "    # start both threads\n",
    "    t1.start()\n",
    "    t2.start()\n",
    "\n",
    "    # wait for both threads to complete\n",
    "    t1.join()\n",
    "    t2.join()\n",
    "\n",
    "    print(\"Done!\")\n"
   ]
  },
  {
   "cell_type": "markdown",
   "id": "37cfce75-8794-4369-8231-42944478bd19",
   "metadata": {},
   "source": [
    "Q5. State advantages and disadvantages of multithreading\n",
    "\n",
    "Multithreading is a technique of concurrent programming that allows multiple threads to run concurrently within a single process. It has several advantages and disadvantages, as outlined below:\n",
    "\n",
    "Advantages of Multithreading:\n",
    "\n",
    "Increased efficiency: Multithreading can help increase the efficiency of a program by allowing multiple tasks to be executed simultaneously. This can result in faster processing times and improved performance.\n",
    "\n",
    "Responsiveness: Multithreading can make a program more responsive by allowing it to continue executing tasks even if one thread becomes blocked or delayed. This can be particularly useful in applications that require real-time responsiveness, such as video games and multimedia applications.\n",
    "\n",
    "Resource sharing: Multithreading can allow multiple threads to share resources such as memory and CPU time. This can help reduce the overall resource usage of a program and improve its efficiency.\n",
    "\n",
    "Simplified programming: Multithreading can simplify the programming of complex applications by allowing multiple tasks to be broken down into smaller, more manageable tasks that can be executed concurrently.\n",
    "\n",
    "Disadvantages of Multithreading:\n",
    "\n",
    "Increased complexity: Multithreading can make a program more complex and harder to debug. The interaction between multiple threads can create synchronization issues and race conditions that can be difficult to detect and resolve.\n",
    "\n",
    "Overhead: Multithreading can introduce overhead in the form of thread creation and management, which can reduce the overall efficiency of a program.\n",
    "\n",
    "Resource contention: Multithreading can lead to resource contention issues, such as deadlock and livelock, where multiple threads are competing for the same resource.\n",
    "\n",
    "Security issues: Multithreading can introduce security vulnerabilities, such as race conditions, that can be exploited by attackers to gain unauthorized access to a system."
   ]
  },
  {
   "cell_type": "code",
   "execution_count": null,
   "id": "bc732832-6138-46fb-97b8-c6f1a3402988",
   "metadata": {},
   "outputs": [],
   "source": []
  }
 ],
 "metadata": {
  "kernelspec": {
   "display_name": "Python 3 (ipykernel)",
   "language": "python",
   "name": "python3"
  },
  "language_info": {
   "codemirror_mode": {
    "name": "ipython",
    "version": 3
   },
   "file_extension": ".py",
   "mimetype": "text/x-python",
   "name": "python",
   "nbconvert_exporter": "python",
   "pygments_lexer": "ipython3",
   "version": "3.10.8"
  }
 },
 "nbformat": 4,
 "nbformat_minor": 5
}

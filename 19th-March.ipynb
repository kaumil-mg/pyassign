{
 "cells": [
  {
   "cell_type": "markdown",
   "metadata": {},
   "source": [
    "1. Min-Max scaling rescales features to a range between 0 and 1. For example, if we have house prices ranging from $100,000 to $1,000,000, after Min-Max scaling, these values will be transformed to a range between 0 and 1.\n",
    "\n",
    "2. The Unit Vector technique normalizes each feature vector to have a length of 1. Unlike Min-Max scaling which compresses the range of feature values, Unit Vector scaling only changes the direction of the feature vector, not its scale. An example application could be normalizing the feature vectors of text data.\n",
    "\n",
    "3. PCA (Principal Component Analysis) is a technique used to identify patterns in data and express it in a new coordinate system formed by principal components. It's used for dimensionality reduction, data compression, and noise reduction.\n",
    "\n",
    "4. PCA is used for Feature Extraction by projecting the original feature space onto a lower-dimensional space spanned by the principal components. For example, in image processing, PCA can extract important features like edges or textures from pixel values.\n",
    "\n",
    "5. In a food delivery service project, Min-Max scaling can be used to preprocess features like price, rating, and delivery time, making them comparable by transforming them to a range between 0 and 1.\n",
    "\n",
    "6. In a stock price prediction project, PCA can be used to reduce the dimensionality of the dataset containing features like company financial data and market trends, improving computational efficiency and mitigating the curse of dimensionality.\n",
    "\n",
    "7. To perform Min-Max scaling on the dataset [1, 5, 10, 15, 20] to a range of -1 to 1, we first calculate the min and max values, then apply the Min-Max scaling formula to each value.\n",
    "\n",
    "8. For Feature Extraction using PCA on a dataset containing features like height, weight, age, gender, and blood pressure, the number of principal components to retain would depend on the desired balance between dimensionality reduction and information retention, often aiming to retain around 90% or more of the total variance."
   ]
  },
  {
   "cell_type": "markdown",
   "metadata": {},
   "source": []
  }
 ],
 "metadata": {
  "language_info": {
   "name": "python"
  },
  "orig_nbformat": 4
 },
 "nbformat": 4,
 "nbformat_minor": 2
}

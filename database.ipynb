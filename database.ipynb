{
 "cells": [
  {
   "cell_type": "markdown",
   "id": "7eb8d51a-465b-44e4-baec-8298ee52c185",
   "metadata": {},
   "source": [
    "Q1. What is a database? Differentiate between SQL and NoSQL databases.\n",
    "\n",
    "Q2. What is DDL? Explain why CREATE, DROP, ALTER, and TRUNCATE are used with an example.\n",
    "\n",
    "Q3. What is DML? Explain INSERT, UPDATE, and DELETE with an example.\n",
    "\n",
    "Q4. What is DQL? Explain SELECT with an example.\n",
    "\n",
    "Q5. Explain Primary Key and Foreign Key.\n",
    " DQL stands for Data Query Language, which is a set of SQL commands used to retrieve data from a database. DQL commands are used to select, filter, and sort data within tables.\n",
    "\n",
    "The most common DQL command is SELECT, which is used to retrieve data from one or more tables. Here is an example of how to use the SELECT statement:\n",
    "Q6. Write a python code to connect MySQL to python. Explain the cursor() and execute() method.\n",
    "\n",
    "Q7. Give the order of execution of SQL clauses in an SQL query."
   ]
  },
  {
   "cell_type": "markdown",
   "id": "47366d4b-66f1-4d80-a47e-a18c343fcf68",
   "metadata": {},
   "source": [
    "1. What is a database? Differentiate between SQL and NoSQL databases.\n",
    "\n",
    "A database is a structured collection of data that is stored and organized in a way that allows for efficient retrieval, manipulation, and management of the data. Databases are used to store and manage large volumes of data, such as customer records, financial information, inventory data, and more. They are widely used in many different applications, including web applications, business systems, and scientific research.\n",
    "\n",
    "There are two main types of databases: SQL and NoSQL.\n",
    "\n",
    "SQL databases, also known as Relational databases, are based on the SQL (Structured Query Language) standard. SQL databases use tables to organize data and rely on a schema, which defines the structure of the data and the relationships between different tables. SQL databases are highly structured, provide strong consistency and data integrity, and are well suited for transactional applications, where data is frequently read and updated.\n",
    "\n",
    "NoSQL databases, on the other hand, are non-relational databases that do not rely on SQL for querying and manipulating data. NoSQL databases are highly scalable and flexible, and can handle a wide range of unstructured data types, including JSON, XML, and more. NoSQL databases are often used in big data applications, real-time data processing, and other applications where scalability and performance are important. NoSQL databases typically do not have a fixed schema, which allows for more flexibility and easier adaptation to changing data needs. NoSQL databases can also provide higher availability and fault tolerance, as they are designed to handle distributed data architectures."
   ]
  },
  {
   "cell_type": "markdown",
   "id": "8c140f03-9fbf-496f-b00e-b20002c65bfa",
   "metadata": {},
   "source": [
    "2. What is DDL? Explain why CREATE, DROP, ALTER, and TRUNCATE are used with an example.\n",
    "\n",
    " DDL stands for Data Definition Language, which is a set of SQL commands used to define and manage the structure of a database. DDL commands are used to create, modify, and delete database objects such as tables, indexes, and views.\n",
    "\n",
    "The following are some of the common DDL commands:\n",
    "\n",
    "CREATE: This command is used to create a new database object, such as a table or index. For example, the following SQL statement creates a new table named \"customers\" with columns for customer ID, name, and email address:\n",
    "\n",
    "CREATE TABLE customers (\n",
    "  customer_id INT PRIMARY KEY,\n",
    "  name VARCHAR(50),\n",
    "  email VARCHAR(100)\n",
    ");\n",
    "\n",
    "DROP: This command is used to delete a database object, such as a table or index. For example, the following SQL statement drops the \"customers\" table:\n",
    "\n",
    "DROP TABLE customers;\n",
    "\n",
    "ALTER: This command is used to modify the structure of an existing database object. For example, the following SQL statement adds a new column called \"phone\" to the \"customers\" table:\n",
    "\n",
    "ALTER TABLE customers ADD phone VARCHAR(20);\n",
    "\n",
    "TRUNCATE: This command is used to delete all data from a table, but keep the structure of the table intact. For example, the following SQL statement truncates the \"customers\" table:\n",
    "\n",
    "TRUNCATE TABLE customers;\n"
   ]
  },
  {
   "cell_type": "markdown",
   "id": "3068190b-54d1-4f71-82cc-82138526b86e",
   "metadata": {},
   "source": [
    "3. What is DML? Explain INSERT, UPDATE, and DELETE with an example.\n",
    "\n",
    "DML stands for Data Manipulation Language, which is a set of SQL commands used to manage data within a database. DML commands are used to insert, update, and delete data within tables.\n",
    "\n",
    "The following are some of the common DML commands:\n",
    "\n",
    "INSERT: This command is used to add new rows of data to a table. For example, the following SQL statement inserts a new row into the \"customers\" table:\n",
    "\n",
    "INSERT INTO customers (customer_id, name, email, phone) \n",
    "VALUES (1, 'John Smith', 'john.smith@example.com', '555-1234');\n",
    "\n",
    "UPDATE: This command is used to modify existing data within a table. For example, the following SQL statement updates the phone number for a specific customer:\n",
    "\n",
    "UPDATE customers SET phone = '555-5678' WHERE customer_id = 1;\n",
    "\n",
    "DELETE: This command is used to delete rows of data from a table. For example, the following SQL statement deletes a specific customer from the \"customers\" table:\n",
    "\n",
    "DELETE FROM customers WHERE customer_id = 1;\n"
   ]
  },
  {
   "cell_type": "markdown",
   "id": "e04ea6b7-93b9-46b1-81d1-7e0e58159df4",
   "metadata": {},
   "source": [
    "Q4. What is DQL? Explain SELECT with an example.\n",
    "\n",
    " DQL stands for Data Query Language, which is a set of SQL commands used to retrieve data from a database. DQL commands are used to select, filter, and sort data within tables.\n",
    "\n",
    "The most common DQL command is SELECT, which is used to retrieve data from one or more tables. Here is an example of how to use the SELECT statement:\n",
    "\n",
    "SELECT * FROM customers;\n"
   ]
  },
  {
   "cell_type": "markdown",
   "id": "83b380f9-58a8-451d-a797-3453128fcf78",
   "metadata": {},
   "source": [
    "Q5. Explain Primary Key and Foreign Key. \n",
    "\n",
    "Primary Key and Foreign Key are both important concepts in database design.\n",
    "\n",
    "A Primary Key is a column or set of columns in a table that uniquely identifies each row in the table. The primary key is used to enforce data integrity and ensure that each row in the table is unique. For example, in the \"customers\" table, the customer ID column could be used as the primary key, as each customer ID is unique and identifies a specific customer.\n",
    "\n",
    "A Foreign Key is a column or set of columns in a table that refers to the primary key of another table. The foreign key is used to establish a relationship between two tables and ensure referential integrity. For example, in an \"orders\" table, there might be a foreign key column that refers to the customer ID column in the \"customers\" table, to indicate which customer placed the order."
   ]
  },
  {
   "cell_type": "markdown",
   "id": "0c65f11d-3e58-45e2-b76b-c61bbba7306d",
   "metadata": {},
   "source": [
    "\n",
    "Q6. Write a python code to connect MySQL to python. Explain the cursor() and execute() method.\n",
    "\n",
    "Q7. Give the order of execution of SQL clauses in an SQL query."
   ]
  }
 ],
 "metadata": {
  "kernelspec": {
   "display_name": "Python 3 (ipykernel)",
   "language": "python",
   "name": "python3"
  },
  "language_info": {
   "codemirror_mode": {
    "name": "ipython",
    "version": 3
   },
   "file_extension": ".py",
   "mimetype": "text/x-python",
   "name": "python",
   "nbconvert_exporter": "python",
   "pygments_lexer": "ipython3",
   "version": "3.10.8"
  }
 },
 "nbformat": 4,
 "nbformat_minor": 5
}

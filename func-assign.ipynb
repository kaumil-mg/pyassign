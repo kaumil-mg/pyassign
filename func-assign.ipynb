{
 "cells": [
  {
   "cell_type": "markdown",
   "id": "fec2beff-63ba-46ce-be07-d0e2dfeb7c48",
   "metadata": {},
   "source": [
    "###### Q1. Which keyword is used to create a function? Create a function to return a list of odd numbers in the range of 1 to 25."
   ]
  },
  {
   "cell_type": "code",
   "execution_count": 2,
   "id": "e54122ef-43f7-4702-b14f-7c637ea1c00f",
   "metadata": {},
   "outputs": [
    {
     "name": "stdout",
     "output_type": "stream",
     "text": [
      "[1, 3, 5, 7, 9, 11, 13, 15, 17, 19, 21, 23, 25]\n"
     ]
    }
   ],
   "source": [
    "def odd_numbers():\n",
    "    odd_list = []\n",
    "    for num in range(1, 26):\n",
    "        if num % 2 != 0:\n",
    "            odd_list.append(num)\n",
    "    return odd_list\n",
    "\n",
    "print(odd_numbers())\n"
   ]
  },
  {
   "cell_type": "markdown",
   "id": "0a4f0ebe-9aae-42a0-8ca3-a30f335b7cf5",
   "metadata": {},
   "source": [
    "##### Q2. Why *args and **kwargs is used in some functions? Create a function each for *args and **kwargs to demonstrate their use."
   ]
  },
  {
   "cell_type": "code",
   "execution_count": 3,
   "id": "67f2d05d-dea4-4fc0-8eeb-5cad09bbf23c",
   "metadata": {},
   "outputs": [
    {
     "name": "stdout",
     "output_type": "stream",
     "text": [
      "1\n",
      "2\n",
      "3\n",
      "4\n",
      "a: 1\n",
      "b: 2\n",
      "c: 3\n"
     ]
    }
   ],
   "source": [
    "\"\"\"*args and **kwargs are used to pass a variable number of arguments to a function.\n",
    "*args is used to pass a non-keyworded, variable-length argument list to a function. \n",
    "The syntax is to use an asterisk (*) before the argument name in the function definition. \n",
    "This allows the function to accept an arbitrary number of arguments, which will be passed as a tuple.\"\"\"\n",
    "\n",
    "def print_args(*args):\n",
    "    for arg in args:\n",
    "        print(arg)\n",
    "\n",
    "print_args(1, 2, 3, 4)\n",
    "\n",
    "\"\"\"**kwargs is used to pass keyworded, variable-length argument list to a function. \n",
    "The syntax is to use two asterisks (**) before the argument name in the function definition. \n",
    "This allows the function to accept an arbitrary number of keyword arguments, which will be passed as a dictionary.\"\"\"\n",
    "\n",
    "def print_kwargs(**kwargs):\n",
    "    for key, value in kwargs.items():\n",
    "        print(f\"{key}: {value}\")\n",
    "\n",
    "print_kwargs(a=1, b=2, c=3)\n"
   ]
  },
  {
   "cell_type": "markdown",
   "id": "7389447b-bdea-40dd-9eca-8c295eefd7b7",
   "metadata": {},
   "source": [
    "##### Q3. What is an iterator in python? Name the method used to initialise the iterator object and the method used for iteration. Use these methods to print the first five elements of the given list [2, 4, 6, 8, 10, 12, 14, 16, 18, 20]."
   ]
  },
  {
   "cell_type": "code",
   "execution_count": 4,
   "id": "f5c3fcc2-6949-4cbe-b1f4-34b419b038ba",
   "metadata": {},
   "outputs": [
    {
     "name": "stdout",
     "output_type": "stream",
     "text": [
      "2\n",
      "4\n",
      "6\n",
      "8\n",
      "10\n"
     ]
    }
   ],
   "source": [
    "\"\"\"An iterator in Python is an object that can be iterated upon, meaning it is a sequence of values. \n",
    "The method used to initialize an iterator object is called iter() and the method used for iteration is next()\"\"\"\n",
    "\n",
    "numbers = [2, 4, 6, 8, 10, 12, 14, 16, 18, 20]\n",
    "\n",
    "# Initializing the iterator object\n",
    "numbers_iterator = iter(numbers)\n",
    "\n",
    "# Printing the first five elements of the list using the next() method\n",
    "for i in range(5):\n",
    "    print(next(numbers_iterator))\n"
   ]
  },
  {
   "cell_type": "markdown",
   "id": "c9e5b02d-f215-4c87-8db1-0edb65071425",
   "metadata": {},
   "source": [
    "##### Q4. What is a generator function in python? Why yield keyword is used? Give an example of a generator function."
   ]
  },
  {
   "cell_type": "code",
   "execution_count": 5,
   "id": "6b96c2e4-1c3d-4838-a77c-f54d27ef98a5",
   "metadata": {},
   "outputs": [
    {
     "name": "stdout",
     "output_type": "stream",
     "text": [
      "0\n",
      "1\n",
      "4\n",
      "9\n",
      "16\n"
     ]
    }
   ],
   "source": [
    "\"\"\"A generator function in python is a special type of function that returns a generator object instead of a single value. \n",
    "The generator function generates a sequence of values using the yield keyword instead of the return keyword. \n",
    "The generator function suspends execution and yields its values one at a time, allowing the caller to resume from where it left off. \n",
    "This feature makes generator functions memory efficient, as they generate values on-the-fly instead of storing all the values in memory.\"\"\"\n",
    "\n",
    "def generator_function(n):\n",
    "    for i in range(n):\n",
    "        yield i*i\n",
    "        \n",
    "for i in generator_function(5):\n",
    "    print(i)\n"
   ]
  },
  {
   "cell_type": "markdown",
   "id": "44cbbaa4-f48b-41e8-b579-ad1ece27fb9b",
   "metadata": {},
   "source": [
    "##### Q5. Create a generator function for prime numbers less than 1000. Use the next() method to print the first 20 prime numbers."
   ]
  },
  {
   "cell_type": "code",
   "execution_count": 6,
   "id": "541ff3bf-2334-4122-915d-cfaf14835a7d",
   "metadata": {},
   "outputs": [
    {
     "name": "stdout",
     "output_type": "stream",
     "text": [
      "2\n",
      "3\n",
      "5\n",
      "7\n",
      "11\n",
      "13\n",
      "17\n",
      "19\n",
      "23\n",
      "29\n",
      "31\n",
      "37\n",
      "41\n",
      "43\n",
      "47\n",
      "53\n",
      "59\n",
      "61\n",
      "67\n",
      "71\n"
     ]
    }
   ],
   "source": [
    "def prime_numbers_gen(limit):\n",
    "    primes = []\n",
    "    for num in range(2, limit):\n",
    "        for prime in primes:\n",
    "            if num % prime == 0:\n",
    "                break\n",
    "        else:\n",
    "            primes.append(num)\n",
    "            yield num\n",
    "\n",
    "gen = prime_numbers_gen(1000)\n",
    "\n",
    "for i in range(20):\n",
    "    print(next(gen))\n"
   ]
  },
  {
   "cell_type": "markdown",
   "id": "26e0e824-8dd2-4262-a4e1-ce62ff44bbe9",
   "metadata": {},
   "source": [
    "##### Q6 Write a python program to print the first 10 Fibonacci numbers using a while loop."
   ]
  },
  {
   "cell_type": "code",
   "execution_count": 7,
   "id": "4cc1a542-2809-4df5-9fdb-06db76765466",
   "metadata": {},
   "outputs": [
    {
     "name": "stdout",
     "output_type": "stream",
     "text": [
      "1\n",
      "1\n",
      "2\n",
      "3\n",
      "5\n",
      "8\n",
      "13\n",
      "21\n",
      "34\n",
      "55\n"
     ]
    }
   ],
   "source": [
    "def fibonacci(n):\n",
    "  a, b = 0, 1\n",
    "  count = 0\n",
    "  while count < n:\n",
    "    print(b)\n",
    "    a, b = b, a + b\n",
    "    count += 1\n",
    "\n",
    "fibonacci(10)\n"
   ]
  },
  {
   "cell_type": "markdown",
   "id": "0248e8ad-ddb3-426a-9706-2f79c82bcc2d",
   "metadata": {},
   "source": [
    "##### Q7. Write a List Comprehension to iterate through the given string: ‘pwskills’. Expected output: ['p', 'w', 's', 'k', 'i', 'l', 'l', 's']"
   ]
  },
  {
   "cell_type": "code",
   "execution_count": 8,
   "id": "d8caa083-e295-49e9-8be8-8c55ba2d31ad",
   "metadata": {},
   "outputs": [
    {
     "name": "stdout",
     "output_type": "stream",
     "text": [
      "['p', 'w', 's', 'k', 'i', 'l', 'l', 's']\n"
     ]
    }
   ],
   "source": [
    "string = 'pwskills'\n",
    "output = [char for char in string]\n",
    "print(output)\n"
   ]
  },
  {
   "cell_type": "markdown",
   "id": "351e95cc-6ed8-4ca7-8112-d6bad096dfb3",
   "metadata": {},
   "source": [
    "##### Q8 Write a python program to check whether a given number is Palindrome or not using a while loop."
   ]
  },
  {
   "cell_type": "code",
   "execution_count": 10,
   "id": "672017ab-81d7-4b0a-bb79-828b3e1f2081",
   "metadata": {},
   "outputs": [
    {
     "name": "stdin",
     "output_type": "stream",
     "text": [
      "Enter a number:  145\n"
     ]
    },
    {
     "name": "stdout",
     "output_type": "stream",
     "text": [
      "145 is not a palindrome.\n"
     ]
    }
   ],
   "source": [
    "def is_palindrome(number):\n",
    "    temp = number\n",
    "    reverse = 0\n",
    "    while temp > 0:\n",
    "        digit = temp % 10\n",
    "        reverse = reverse * 10 + digit\n",
    "        temp = temp // 10\n",
    "    return reverse == number\n",
    "\n",
    "number = int(input(\"Enter a number: \"))\n",
    "result = is_palindrome(number)\n",
    "if result:\n",
    "    print(f\"{number} is a palindrome.\")\n",
    "else:\n",
    "    print(f\"{number} is not a palindrome.\")\n"
   ]
  },
  {
   "cell_type": "markdown",
   "id": "34a64218-3d5e-448b-90ae-f2b67e1443ef",
   "metadata": {},
   "source": [
    "##### Q9 Write a code to print odd numbers from 1 to 100 using list comprehension."
   ]
  },
  {
   "cell_type": "code",
   "execution_count": 11,
   "id": "29b5eeb7-fb99-47a9-ba7f-9dc6fb7cb67d",
   "metadata": {},
   "outputs": [
    {
     "name": "stdout",
     "output_type": "stream",
     "text": [
      "[1, 3, 5, 7, 9, 11, 13, 15, 17, 19, 21, 23, 25, 27, 29, 31, 33, 35, 37, 39, 41, 43, 45, 47, 49, 51, 53, 55, 57, 59, 61, 63, 65, 67, 69, 71, 73, 75, 77, 79, 81, 83, 85, 87, 89, 91, 93, 95, 97, 99]\n"
     ]
    }
   ],
   "source": [
    "odd_numbers = [num for num in range(1, 101) if num % 2 != 0]\n",
    "print(odd_numbers)\n"
   ]
  },
  {
   "cell_type": "code",
   "execution_count": null,
   "id": "effe9818-729a-4fe0-b110-421ff3fce403",
   "metadata": {},
   "outputs": [],
   "source": []
  }
 ],
 "metadata": {
  "kernelspec": {
   "display_name": "Python 3 (ipykernel)",
   "language": "python",
   "name": "python3"
  },
  "language_info": {
   "codemirror_mode": {
    "name": "ipython",
    "version": 3
   },
   "file_extension": ".py",
   "mimetype": "text/x-python",
   "name": "python",
   "nbconvert_exporter": "python",
   "pygments_lexer": "ipython3",
   "version": "3.10.8"
  }
 },
 "nbformat": 4,
 "nbformat_minor": 5
}

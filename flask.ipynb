{
 "cells": [
  {
   "cell_type": "code",
   "execution_count": 1,
   "id": "ac36fa9e-46f9-4cf4-a088-21124f9e8a0e",
   "metadata": {},
   "outputs": [
    {
     "name": "stdout",
     "output_type": "stream",
     "text": [
      "Collecting flask\n",
      "  Downloading Flask-2.2.3-py3-none-any.whl (101 kB)\n",
      "\u001b[2K     \u001b[90m━━━━━━━━━━━━━━━━━━━━━━━━━━━━━━━━━━━━━━━\u001b[0m \u001b[32m101.8/101.8 kB\u001b[0m \u001b[31m2.2 MB/s\u001b[0m eta \u001b[36m0:00:00\u001b[0ma \u001b[36m0:00:01\u001b[0m\n",
      "\u001b[?25hRequirement already satisfied: Jinja2>=3.0 in /opt/conda/lib/python3.10/site-packages (from flask) (3.1.2)\n",
      "Collecting Werkzeug>=2.2.2\n",
      "  Downloading Werkzeug-2.2.3-py3-none-any.whl (233 kB)\n",
      "\u001b[2K     \u001b[90m━━━━━━━━━━━━━━━━━━━━━━━━━━━━━━━━━━━━━━━\u001b[0m \u001b[32m233.6/233.6 kB\u001b[0m \u001b[31m8.7 MB/s\u001b[0m eta \u001b[36m0:00:00\u001b[0m\n",
      "\u001b[?25hRequirement already satisfied: click>=8.0 in /opt/conda/lib/python3.10/site-packages (from flask) (8.1.3)\n",
      "Collecting itsdangerous>=2.0\n",
      "  Downloading itsdangerous-2.1.2-py3-none-any.whl (15 kB)\n",
      "Requirement already satisfied: MarkupSafe>=2.0 in /opt/conda/lib/python3.10/site-packages (from Jinja2>=3.0->flask) (2.1.1)\n",
      "Installing collected packages: Werkzeug, itsdangerous, flask\n",
      "Successfully installed Werkzeug-2.2.3 flask-2.2.3 itsdangerous-2.1.2\n"
     ]
    }
   ],
   "source": [
    "!pip install flask"
   ]
  },
  {
   "cell_type": "markdown",
   "id": "2ca46014-26d2-42fa-9d02-aab8525b3b66",
   "metadata": {},
   "source": [
    "# Q1. What is Flask Framework? What are the advantages of Flask Framework?\n",
    "\n",
    "A1. Flask is a lightweight and flexible web application framework for Python. It is a micro-framework that does not require particular tools or libraries and provides only the basic features required for building web applications.\n",
    "\n",
    "The advantages of Flask framework are:\n",
    "\n",
    "Lightweight: Flask is a lightweight framework with a small codebase, making it easy to understand and learn. It is also fast and efficient, making it suitable for building small to medium-sized applications.\n",
    "\n",
    "Flexible: Flask is a flexible framework that allows developers to customize and extend its features as per their requirements. It does not force any specific development patterns or architecture.\n",
    "\n",
    "Modular: Flask is a modular framework that allows developers to choose the libraries and extensions they need for their project. This makes it easy to keep the codebase clean and organized.\n",
    "\n",
    "Easy to learn: Flask has a simple and intuitive API, making it easy for beginners to learn and start building applications quickly. It also has excellent documentation and a large community, providing ample resources for developers.\n",
    "\n",
    "Testing: Flask has built-in support for unit testing, making it easy to write and run tests for your application. This ensures that your application is stable and reliable.\n",
    "\n",
    "Overall, Flask is a great choice for developers who want to build small to medium-sized web applications quickly and efficiently. Its flexibility, modularity, and ease of use make it a popular choice among Python developers."
   ]
  },
  {
   "cell_type": "markdown",
   "id": "3108bc5f-2cce-4752-969d-beedcfd0c3d9",
   "metadata": {},
   "source": [
    "# Q2. Create a simple Flask application to display ‘Hello World!!’.:\n",
    "    \n",
    "https://drive.google.com/file/d/1nipbr2lTpvibCPCj_r0eIaKsLqGj92gO/view?usp=share_link"
   ]
  },
  {
   "cell_type": "markdown",
   "id": "7756449e-5ff8-4f44-9451-120c8abd9b2e",
   "metadata": {},
   "source": [
    "# Q3. What is App routing in Flask? Why do we use app routes?\n",
    "\n",
    "App routing is a mechanism in Flask that allows developers to map URLs to specific Python functions in their application. It is achieved using the @app.route decorator, which binds a URL pattern to a view function.\n",
    "\n",
    "App routing is important in Flask because it allows developers to create a logical structure for their application by mapping URLs to specific functions. This makes it easy to organize code and create a RESTful API that can handle different HTTP methods such as GET, POST, PUT, and DELETE."
   ]
  },
  {
   "cell_type": "markdown",
   "id": "710b3852-c3f1-426b-aff9-166ec99b7afd",
   "metadata": {},
   "source": [
    "# Q4 Create a “/welcome” route to display the welcome message “Welcome to ABC Corporation” and a “/”\n",
    "route to show the following details:\n",
    "Company Name: ABC Corporation\n",
    "Location: India\n",
    "Contact Detail: 999-999-9999\n",
    "\n",
    "https://drive.google.com/file/d/1c9oFmA4rrdJ8kIofkd8GrIAGI4tCCyDc/view?usp=share_link\n",
    "\n",
    "https://drive.google.com/file/d/1vOwTJnX6JApmTN8Z1TGoFy3Hee7lFR_H/view?usp=share_link"
   ]
  },
  {
   "cell_type": "code",
   "execution_count": null,
   "id": "1226ce3b-fd18-4c8c-aae5-aa4a43b004d2",
   "metadata": {},
   "outputs": [],
   "source": [
    "# Q5. What function is used in Flask for URL Building? Write a Python code to demonstrate the working of the url_for() function."
   ]
  }
 ],
 "metadata": {
  "kernelspec": {
   "display_name": "Python 3 (ipykernel)",
   "language": "python",
   "name": "python3"
  },
  "language_info": {
   "codemirror_mode": {
    "name": "ipython",
    "version": 3
   },
   "file_extension": ".py",
   "mimetype": "text/x-python",
   "name": "python",
   "nbconvert_exporter": "python",
   "pygments_lexer": "ipython3",
   "version": "3.10.8"
  }
 },
 "nbformat": 4,
 "nbformat_minor": 5
}

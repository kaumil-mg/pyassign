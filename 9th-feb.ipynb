{
 "cells": [
  {
   "cell_type": "markdown",
   "id": "bf9e289e-b593-48b1-978c-b6a15221599d",
   "metadata": {},
   "source": [
    "Q1. Create a vehicle class with an init method having instance variables as name_of_vehicle, max_speed\n",
    "and average_of_vehicle."
   ]
  },
  {
   "cell_type": "code",
   "execution_count": 1,
   "id": "265e27d7-4ad4-44b8-ac69-0d670cba3df2",
   "metadata": {},
   "outputs": [
    {
     "name": "stdout",
     "output_type": "stream",
     "text": [
      "Car\n",
      "500\n",
      "2\n"
     ]
    }
   ],
   "source": [
    "class Vehicle:\n",
    "    def __init__(self, name_of_vehicle, max_speed, average_of_vehicle):\n",
    "        self.name_of_vehicle = name_of_vehicle\n",
    "        self.max_speed = max_speed\n",
    "        self.average_of_vehicle = average_of_vehicle\n",
    "        \n",
    "car = Vehicle(\"Car\", 500, 2)\n",
    "print(car.name_of_vehicle)  # \"Car\"\n",
    "print(car.max_speed)  # 200\n",
    "print(car.average_of_vehicle)  # 20"
   ]
  },
  {
   "cell_type": "markdown",
   "id": "960c6d16-eacf-4025-9f4d-487d1e90e466",
   "metadata": {},
   "source": [
    "Q2. Create a child class car from the vehicle class created in Que 1, which will inherit the vehicle class.\n",
    "Create a method named seating_capacity which takes capacity as an argument and returns the name of\n",
    "the vehicle and its seating capacity."
   ]
  },
  {
   "cell_type": "code",
   "execution_count": 2,
   "id": "47e78b73-6049-46a6-a230-49041ef2eacd",
   "metadata": {},
   "outputs": [
    {
     "name": "stdout",
     "output_type": "stream",
     "text": [
      "The BMW X1 has a seating capacity of 5.\n"
     ]
    }
   ],
   "source": [
    "class Car(Vehicle):\n",
    "    def seating_capacity(self, capacity):\n",
    "        return f\"The {self.name_of_vehicle} has a seating capacity of {capacity}.\"\n",
    "    \n",
    "my_car = Car(\"BMW X1\", 150, 15)\n",
    "print(my_car.seating_capacity(5))  # \"The My Car has a seating capacity of 5.\""
   ]
  },
  {
   "cell_type": "markdown",
   "id": "57d97d66-e2f9-4b29-a89f-50bca00d709a",
   "metadata": {},
   "source": [
    "Q3. What is multiple inheritance? Write a python code to demonstrate multiple inheritance."
   ]
  },
  {
   "cell_type": "code",
   "execution_count": 3,
   "id": "7212f50d-4c55-4df4-8fab-b579e05d6b97",
   "metadata": {},
   "outputs": [
    {
     "name": "stdout",
     "output_type": "stream",
     "text": [
      "Engine started.\n",
      "Fuel tank filled with 50 liters.\n",
      "Car is driving.\n"
     ]
    }
   ],
   "source": [
    "'''\n",
    "Ans>    Multiple inheritance is a feature of object-oriented programming that allows a class to inherit \n",
    "        attributes and behaviors from multiple parent classes. This allows for greater flexibility and \n",
    "        code reuse, as a single class can inherit the characteristics of multiple existing classes.'''\n",
    "class Engine:\n",
    "    def start(self):\n",
    "        return \"Engine started.\"\n",
    "\n",
    "class FuelSystem:\n",
    "    def fill_fuel(self, fuel_amount):\n",
    "        return f\"Fuel tank filled with {fuel_amount} liters.\"\n",
    "\n",
    "class Car(Engine, FuelSystem):\n",
    "    def drive(self):\n",
    "        return \"Car is driving.\"\n",
    "\n",
    "my_car = Car()\n",
    "print(my_car.start())  # \"Engine started.\"\n",
    "print(my_car.fill_fuel(50))  # \"Fuel tank filled with 50 liters.\"\n",
    "print(my_car.drive())  # \"Car is driving.\""
   ]
  },
  {
   "cell_type": "code",
   "execution_count": null,
   "id": "63dd2c6e-9e26-4378-af1b-10d0b3b5e5ac",
   "metadata": {},
   "outputs": [],
   "source": []
  }
 ],
 "metadata": {
  "kernelspec": {
   "display_name": "Python 3 (ipykernel)",
   "language": "python",
   "name": "python3"
  },
  "language_info": {
   "codemirror_mode": {
    "name": "ipython",
    "version": 3
   },
   "file_extension": ".py",
   "mimetype": "text/x-python",
   "name": "python",
   "nbconvert_exporter": "python",
   "pygments_lexer": "ipython3",
   "version": "3.10.8"
  }
 },
 "nbformat": 4,
 "nbformat_minor": 5
}
